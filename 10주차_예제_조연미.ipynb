{
 "cells": [
  {
   "cell_type": "code",
   "execution_count": 3,
   "id": "9701654d-742b-4f7c-8971-159a9312e94b",
   "metadata": {},
   "outputs": [
    {
     "name": "stdout",
     "output_type": "stream",
     "text": [
      "3\n",
      "7\n",
      "12\n"
     ]
    }
   ],
   "source": [
    "# 10주차 예제\n",
    "# 2024273665 조연미\n",
    "\n",
    "result=0\n",
    "def adder(num):\n",
    "    global result\n",
    "    result += num\n",
    "    return result\n",
    "print(adder(3))\n",
    "print(adder(4))\n",
    "print(adder(5))"
   ]
  },
  {
   "cell_type": "code",
   "execution_count": 4,
   "id": "5b38c72c-4932-47db-9696-b3cf0015180a",
   "metadata": {},
   "outputs": [
    {
     "name": "stdout",
     "output_type": "stream",
     "text": [
      "3\n",
      "7\n",
      "3\n",
      "10\n"
     ]
    }
   ],
   "source": [
    "result1=0\n",
    "result2=0\n",
    "\n",
    "def adder1(num):\n",
    "    global result1\n",
    "    result1 += num\n",
    "    return result1\n",
    "\n",
    "def adder2(num):\n",
    "    global result2\n",
    "    result2 += num\n",
    "    return result2\n",
    "    \n",
    "print(adder1(3))\n",
    "print(adder1(4))\n",
    "print(adder2(3))\n",
    "print(adder2(7))"
   ]
  },
  {
   "cell_type": "code",
   "execution_count": 5,
   "id": "21973286-5fec-4ae2-8a1c-8ab0fd8b3f42",
   "metadata": {},
   "outputs": [
    {
     "name": "stdout",
     "output_type": "stream",
     "text": [
      "3\n",
      "7\n",
      "3\n",
      "10\n"
     ]
    }
   ],
   "source": [
    "class Calculator:\n",
    "    def __init__(self):\n",
    "        self.result=0\n",
    "    def adder(self, num):\n",
    "        self.result += num\n",
    "        return self.result\n",
    "cal1=Calculator()\n",
    "cal2=Calculator()\n",
    "\n",
    "print(cal1.adder(3))\n",
    "print(cal1.adder(4))\n",
    "print(cal2.adder(3))\n",
    "print(cal2.adder(7))"
   ]
  },
  {
   "cell_type": "code",
   "execution_count": 6,
   "id": "615d9a3a-4fd2-4dbf-b98f-64056cc1c895",
   "metadata": {},
   "outputs": [
    {
     "data": {
      "text/plain": [
       "'지구는 4006년에 멸망한다.'"
      ]
     },
     "execution_count": 6,
     "metadata": {},
     "output_type": "execute_result"
    }
   ],
   "source": [
    "class Service:\n",
    "    secret=\"지구는 4006년에 멸망한다.\"\n",
    "an = Service()\n",
    "an.secret"
   ]
  },
  {
   "cell_type": "code",
   "execution_count": 7,
   "id": "8faca486-2b9a-41c0-bf79-952e650198f8",
   "metadata": {},
   "outputs": [
    {
     "data": {
      "text/plain": [
       "'지구는 4006년에 멸망한다.'"
      ]
     },
     "execution_count": 7,
     "metadata": {},
     "output_type": "execute_result"
    }
   ],
   "source": [
    "Service.secret"
   ]
  },
  {
   "cell_type": "code",
   "execution_count": 8,
   "id": "03d63c65-2491-41c2-a658-4a550c89c217",
   "metadata": {},
   "outputs": [
    {
     "name": "stdout",
     "output_type": "stream",
     "text": [
      "지구가 4006년에 멸망한다는 사실은 뻥이다.\n"
     ]
    }
   ],
   "source": [
    "Service.secret='지구가 4006년에 멸망한다는 사실은 뻥이다.'\n",
    "print(an.secret)"
   ]
  },
  {
   "cell_type": "code",
   "execution_count": 10,
   "id": "22a0217a-38ad-4e29-b463-270db2b589b8",
   "metadata": {},
   "outputs": [
    {
     "name": "stdout",
     "output_type": "stream",
     "text": [
      "1 + 1 = 2이다.\n"
     ]
    }
   ],
   "source": [
    "class Service:\n",
    "    secret=\"지구는 4006년에 멸망한다\"\n",
    "    def sum(self, a, b):\n",
    "        result = a+b\n",
    "        print(\"%s + %s = %s이다.\" %(a, b, result))\n",
    "an=Service()\n",
    "an.sum(1,1)"
   ]
  },
  {
   "cell_type": "code",
   "execution_count": 12,
   "id": "302c5dbd-89df-4351-b919-d3c9a88a798a",
   "metadata": {},
   "outputs": [
    {
     "name": "stdout",
     "output_type": "stream",
     "text": [
      "박달도사님, 1 + 1 = 2입니다.\n"
     ]
    }
   ],
   "source": [
    "class Service:\n",
    "    secret=\"지구는 4006년에 멸망한다\"\n",
    "    def setname(self, name):\n",
    "        self.name = name\n",
    "    def sum(self, a, b):\n",
    "        result=a+b\n",
    "        print(\"%s님, %s + %s = %s입니다.\" %(self.name, a, b, result))\n",
    "an=Service()\n",
    "an.setname(\"박달도사\")\n",
    "an.sum(1,1)"
   ]
  },
  {
   "cell_type": "code",
   "execution_count": 15,
   "id": "73d91fff-60e4-4161-9b09-c812ff2d9575",
   "metadata": {},
   "outputs": [
    {
     "name": "stdout",
     "output_type": "stream",
     "text": [
      "김정보\n",
      "박융합\n"
     ]
    }
   ],
   "source": [
    "kim=Service()\n",
    "park=Service()\n",
    "kim.name=\"김정보\"\n",
    "park.name=\"박융합\"\n",
    "print(kim.name)\n",
    "print(park.name)"
   ]
  },
  {
   "cell_type": "code",
   "execution_count": 16,
   "id": "d46b5474-145b-4535-b6da-c4a7cd76f1d7",
   "metadata": {},
   "outputs": [
    {
     "name": "stdout",
     "output_type": "stream",
     "text": [
      "지구는 4006년에 멸망한다\n"
     ]
    }
   ],
   "source": [
    "kim.secret=\"비밀은 없다\"\n",
    "print(park.secret)\n"
   ]
  },
  {
   "cell_type": "code",
   "execution_count": 17,
   "id": "4e746e3f-f9e1-4861-a802-4119e1ab2000",
   "metadata": {},
   "outputs": [
    {
     "name": "stdout",
     "output_type": "stream",
     "text": [
      "비밀은 없다\n"
     ]
    }
   ],
   "source": [
    "print(kim.secret)"
   ]
  },
  {
   "cell_type": "code",
   "execution_count": 18,
   "id": "3da20a1f-12f8-43d7-9427-240fd2e4d81c",
   "metadata": {},
   "outputs": [
    {
     "data": {
      "text/plain": [
       "'지구는 4006년에 멸망한다'"
      ]
     },
     "execution_count": 18,
     "metadata": {},
     "output_type": "execute_result"
    }
   ],
   "source": [
    "Service.secret"
   ]
  },
  {
   "cell_type": "code",
   "execution_count": 20,
   "id": "9d77ace8-4be5-4a52-9218-55728e774cb6",
   "metadata": {},
   "outputs": [
    {
     "name": "stdout",
     "output_type": "stream",
     "text": [
      "박달도사님, 1 + 1 = 2입니다.\n"
     ]
    }
   ],
   "source": [
    "class Service:\n",
    "    secret=\"지구는 4006년에 멸망한다\"\n",
    "    def __init__(self, name):\n",
    "        self.name=name\n",
    "    def sum(self, a, b):\n",
    "        result = a+b\n",
    "        print(\"%s님, %s + %s = %s입니다.\" %(self.name, a, b, result))\n",
    "an.setname(\"박달도사\")\n",
    "an.sum(1,1)"
   ]
  },
  {
   "cell_type": "code",
   "execution_count": 21,
   "id": "a9a4f578-37f0-474d-a8ff-817ced07710f",
   "metadata": {},
   "outputs": [
    {
     "data": {
      "text/plain": [
       "__main__.Fourcal"
      ]
     },
     "execution_count": 21,
     "metadata": {},
     "output_type": "execute_result"
    }
   ],
   "source": [
    "class Fourcal:\n",
    "    pass\n",
    "a=Fourcal()\n",
    "type(a)"
   ]
  },
  {
   "cell_type": "code",
   "execution_count": 22,
   "id": "891fee94-c396-4bc7-9b5f-3c4dd7ab7deb",
   "metadata": {},
   "outputs": [
    {
     "name": "stdout",
     "output_type": "stream",
     "text": [
      "4\n",
      "2\n"
     ]
    }
   ],
   "source": [
    "class FourCal:\n",
    "    def setdata(self, first, second):\n",
    "        self.first=first\n",
    "        self.second=second\n",
    "a=FourCal()\n",
    "a.setdata(4,2)\n",
    "print(a.first)\n",
    "print(a.second)"
   ]
  },
  {
   "cell_type": "code",
   "execution_count": 23,
   "id": "17ad3b63-e4b1-4ff5-baba-9e3f7926dd2a",
   "metadata": {},
   "outputs": [
    {
     "name": "stdout",
     "output_type": "stream",
     "text": [
      "6\n"
     ]
    }
   ],
   "source": [
    "class FourCal:\n",
    "    def setdata(self, first, second):\n",
    "        self.first=first\n",
    "        self.second=second\n",
    "    def sum(self):\n",
    "        result=self.first+self.second\n",
    "        return result\n",
    "a=FourCal()\n",
    "a.setdata(4,2)\n",
    "print(a.sum())"
   ]
  },
  {
   "cell_type": "code",
   "execution_count": 25,
   "id": "801e9fb7-4b02-4892-bb6b-d33ae505830a",
   "metadata": {},
   "outputs": [
    {
     "data": {
      "text/plain": [
       "-4"
      ]
     },
     "execution_count": 25,
     "metadata": {},
     "output_type": "execute_result"
    }
   ],
   "source": [
    "#사칙연산 클래스\n",
    "class FourCal:\n",
    "    def setdata(self, first, second):\n",
    "        self.first = first\n",
    "        self.second = second\n",
    "\n",
    "    def sum(self):\n",
    "        result = self.first + self.second\n",
    "        return result\n",
    "\n",
    "    def mul(self):\n",
    "        result = self.first * self.second\n",
    "        return result\n",
    "\n",
    "    def sub(self):\n",
    "        result = self.first - self.second\n",
    "        return result\n",
    "\n",
    "    def div(self):\n",
    "        result = self.first / self.second\n",
    "        return result\n",
    "a=FourCal()\n",
    "b=FourCal()\n",
    "a.setdata(4,2)\n",
    "b.setdata(3,7)\n",
    "a.sum()\n",
    "a.mul()\n",
    "a.sub()\n",
    "a.div()\n",
    "b.sub()"
   ]
  },
  {
   "cell_type": "code",
   "execution_count": 26,
   "id": "1f1130fb-0cbb-4a26-aaca-ccad1d15528c",
   "metadata": {},
   "outputs": [
    {
     "name": "stdout",
     "output_type": "stream",
     "text": [
      "Player 1 rolled [1, 6, 6]\n",
      "Player 2 rolled [6, 6, 3]\n",
      "Player 2 wins\n",
      "Player 1 rolled [1, 1, 1]\n",
      "Player 2 rolled [6, 6, 6]\n",
      "Player 2 wins!\n"
     ]
    }
   ],
   "source": [
    "#주사위게임\n",
    "import random\n",
    "\n",
    "player1_dice = []\n",
    "player2_dice = []\n",
    "\n",
    "for i in range(3):\n",
    "    player1_dice.append(random.randint(1, 6))\n",
    "    player2_dice.append(random.randint(1, 6))\n",
    "\n",
    "print(\"Player 1 rolled \" + str(player1_dice))\n",
    "print(\"Player 2 rolled \" + str(player2_dice))\n",
    "\n",
    "if sum(player1_dice) == sum(player2_dice):\n",
    "    print(\"Draw\")\n",
    "elif sum(player1_dice) > sum(player2_dice):\n",
    "    print(\"Player 1 wins\")\n",
    "else:\n",
    "    print(\"Player 2 wins\")\n",
    "    \n",
    "from random import randint\n",
    "\n",
    "class Player:\n",
    "    def __init__(self):\n",
    "        self.dice = []\n",
    "\n",
    "    def roll(self):\n",
    "        self.dice = []  # clears current dice\n",
    "        for i in range(3):\n",
    "            self.dice.append(randint(1, 6))\n",
    "\n",
    "    def get_dice(self):\n",
    "        return self.dice\n",
    "\n",
    "# 플레이어 인스턴스 생성\n",
    "player1 = Player()\n",
    "player2 = Player()\n",
    "\n",
    "# 주사위 굴리기\n",
    "player1.roll()\n",
    "player2.roll()\n",
    "\n",
    "# 결과 출력\n",
    "print(\"Player 1 rolled \" + str(player1.get_dice()))\n",
    "print(\"Player 2 rolled \" + str(player2.get_dice()))\n",
    "\n",
    "# 승부 판단\n",
    "if sum(player1.get_dice()) == sum(player2.get_dice()):\n",
    "    print(\"Draw!\")\n",
    "elif sum(player1.get_dice()) > sum(player2.get_dice()):\n",
    "    print(\"Player 1 wins!\")\n",
    "else:\n",
    "    print(\"Player 2 wins!\")\n"
   ]
  },
  {
   "cell_type": "code",
   "execution_count": null,
   "id": "c4f65dd5-fdad-4fde-a197-478954580d1d",
   "metadata": {},
   "outputs": [],
   "source": []
  }
 ],
 "metadata": {
  "kernelspec": {
   "display_name": "Python 3 (ipykernel)",
   "language": "python",
   "name": "python3"
  },
  "language_info": {
   "codemirror_mode": {
    "name": "ipython",
    "version": 3
   },
   "file_extension": ".py",
   "mimetype": "text/x-python",
   "name": "python",
   "nbconvert_exporter": "python",
   "pygments_lexer": "ipython3",
   "version": "3.13.2"
  }
 },
 "nbformat": 4,
 "nbformat_minor": 5
}
