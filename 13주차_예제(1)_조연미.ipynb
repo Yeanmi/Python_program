{
 "cells": [
  {
   "cell_type": "code",
   "execution_count": 4,
   "id": "ab0e5e95-1c96-47a1-8d88-ce199f89728b",
   "metadata": {},
   "outputs": [
    {
     "name": "stdout",
     "output_type": "stream",
     "text": [
      "menu\n"
     ]
    },
    {
     "data": {
      "text/plain": [
       "xml.etree.ElementTree.Element"
      ]
     },
     "execution_count": 4,
     "metadata": {},
     "output_type": "execute_result"
    }
   ],
   "source": [
    "# 13주차 예제\n",
    "# 2024273665 조연미\n",
    "\n",
    "import xml.etree.ElementTree as et\n",
    "\n",
    "tree = et.ElementTree(file='C:/Users/user/Documents/python_program/menu.xml')\n",
    "root = tree.getroot()                   # 루트 엘리먼트 가져오기\n",
    "\n",
    "print(root.tag)  # 루트 태그 이름 출력\n",
    "type(root)"
   ]
  },
  {
   "cell_type": "code",
   "execution_count": 5,
   "id": "e775b913-937a-4d05-8e1b-79713ae65176",
   "metadata": {},
   "outputs": [
    {
     "name": "stdout",
     "output_type": "stream",
     "text": [
      "tag: breakfast attributes: {'hours': '7-11'}\n",
      "\ttag: item attributes: {'price': '$6.00'}\n",
      "\ttag: item attributes: {'price': '$4.00'}\n",
      "tag: lunch attributes: {'hours': '11-3'}\n",
      "\ttag: item attributes: {'price': '$5.00'}\n",
      "tag: dinner attributes: {'hours': '3-10'}\n",
      "\ttag: item attributes: {'price': '8.00'}\n"
     ]
    }
   ],
   "source": [
    "for child in root:\n",
    "    print('tag:', child.tag, 'attributes:', child.attrib)\n",
    "    for grandchild in child:\n",
    "        print('\\ttag:', grandchild.tag, 'attributes:', grandchild.attrib)\n"
   ]
  },
  {
   "cell_type": "code",
   "execution_count": 6,
   "id": "6b3e5e68-6f71-4706-8e02-66decf97afe2",
   "metadata": {},
   "outputs": [
    {
     "data": {
      "text/plain": [
       "3"
      ]
     },
     "execution_count": 6,
     "metadata": {},
     "output_type": "execute_result"
    }
   ],
   "source": [
    "len(root)"
   ]
  },
  {
   "cell_type": "code",
   "execution_count": 7,
   "id": "8c8aedf1-0774-4f72-901a-35ba2607ef6e",
   "metadata": {},
   "outputs": [
    {
     "data": {
      "text/plain": [
       "2"
      ]
     },
     "execution_count": 7,
     "metadata": {},
     "output_type": "execute_result"
    }
   ],
   "source": [
    "len(root[0])"
   ]
  },
  {
   "cell_type": "code",
   "execution_count": 8,
   "id": "18ac30b9-700c-4161-a5f0-f4811c7b2ec5",
   "metadata": {},
   "outputs": [
    {
     "data": {
      "text/plain": [
       "xml.etree.ElementTree.Element"
      ]
     },
     "execution_count": 8,
     "metadata": {},
     "output_type": "execute_result"
    }
   ],
   "source": [
    "type(root[0])"
   ]
  },
  {
   "cell_type": "code",
   "execution_count": 9,
   "id": "3ee804c6-6f3b-4d92-8f89-a371ddbaf8e5",
   "metadata": {},
   "outputs": [
    {
     "name": "stdout",
     "output_type": "stream",
     "text": [
      "<Element 'breakfast' at 0x0000028AE747C680>\n"
     ]
    }
   ],
   "source": [
    "print(root[0])                   # root의 첫 번째 자식 → Element 'breakfast' 객체 출력\n"
   ]
  },
  {
   "cell_type": "code",
   "execution_count": 10,
   "id": "29f306d8-639f-4d02-8ab2-b2a9f77a6e31",
   "metadata": {},
   "outputs": [
    {
     "name": "stdout",
     "output_type": "stream",
     "text": [
      "7-11\n"
     ]
    }
   ],
   "source": [
    "print(root[0].get(\"hours\"))      # 'breakfast' 요소의 'hours' 속성 값 리턴\n"
   ]
  },
  {
   "cell_type": "code",
   "execution_count": 11,
   "id": "9e5ae6ba-4d92-4766-a422-ad818d13bae0",
   "metadata": {},
   "outputs": [
    {
     "name": "stdout",
     "output_type": "stream",
     "text": [
      "['hours']\n"
     ]
    }
   ],
   "source": [
    "print(root[0].keys())            # 모든 속성 키를 리스트로 리턴\n"
   ]
  },
  {
   "cell_type": "code",
   "execution_count": 12,
   "id": "7f975ae0-f8f9-4949-854c-605ab82308a0",
   "metadata": {},
   "outputs": [
    {
     "name": "stdout",
     "output_type": "stream",
     "text": [
      "[('hours', '7-11')]\n"
     ]
    }
   ],
   "source": [
    "print(root[0].items())           # 모든 속성의 (key, value) 쌍을 리스트로 리턴"
   ]
  },
  {
   "cell_type": "code",
   "execution_count": 13,
   "id": "7294a5d0-e5bc-4500-8edb-e859f3fc86ac",
   "metadata": {},
   "outputs": [
    {
     "name": "stdout",
     "output_type": "stream",
     "text": [
      "<Element 'lunch' at 0x0000028AE747C540>\n"
     ]
    }
   ],
   "source": [
    "#태그 자체로 찾기\n",
    "lunch = root.find(\"lunch\")\n",
    "\n",
    "print(lunch)                      # <Element 'lunch' at 0x...> 형태로 출력됨\n"
   ]
  },
  {
   "cell_type": "code",
   "execution_count": 14,
   "id": "70103798-8645-4b3d-9199-a098273867e6",
   "metadata": {},
   "outputs": [
    {
     "name": "stdout",
     "output_type": "stream",
     "text": [
      "11-3\n"
     ]
    }
   ],
   "source": [
    "print(lunch.get(\"hours\"))        # 'lunch' 요소의 'hours' 속성 값을 출력\n"
   ]
  },
  {
   "cell_type": "code",
   "execution_count": 15,
   "id": "e36c6df8-1ba9-4524-a050-4fdcc8ff47d6",
   "metadata": {},
   "outputs": [
    {
     "name": "stdout",
     "output_type": "stream",
     "text": [
      "['hours']\n"
     ]
    }
   ],
   "source": [
    "print(lunch.keys())              # lunch 요소의 모든 속성 키를 리스트 형태로 반환\n"
   ]
  },
  {
   "cell_type": "code",
   "execution_count": 16,
   "id": "83449869-87b3-4e0c-9363-1a50f6740475",
   "metadata": {},
   "outputs": [
    {
     "name": "stdout",
     "output_type": "stream",
     "text": [
      "[('hours', '11-3')]\n"
     ]
    }
   ],
   "source": [
    "print(lunch.items())             # lunch 요소의 모든 속성 (key, value) 쌍을 튜플 리스트로 반환"
   ]
  },
  {
   "cell_type": "code",
   "execution_count": 17,
   "id": "61ae87bf-32b7-474d-beba-b3068a5d5f19",
   "metadata": {},
   "outputs": [
    {
     "data": {
      "text/plain": [
       "xml.etree.ElementTree.Element"
      ]
     },
     "execution_count": 17,
     "metadata": {},
     "output_type": "execute_result"
    }
   ],
   "source": [
    "type(lunch)"
   ]
  },
  {
   "cell_type": "code",
   "execution_count": 18,
   "id": "76e3f851-093e-45ff-9e01-d1555dc4af46",
   "metadata": {},
   "outputs": [
    {
     "name": "stdout",
     "output_type": "stream",
     "text": [
      "[<Element 'item' at 0x0000028AE747C5E0>, <Element 'item' at 0x0000028AE747C590>]\n"
     ]
    }
   ],
   "source": [
    "#같은 이름의 태그가 여러개 일때,\n",
    "print(root[0].findall('item'))"
   ]
  },
  {
   "cell_type": "code",
   "execution_count": 19,
   "id": "b84f5f84-376b-4897-b81c-9de78b661a0c",
   "metadata": {},
   "outputs": [
    {
     "name": "stdout",
     "output_type": "stream",
     "text": [
      "[<Element 'item' at 0x0000028AE747C5E0>, <Element 'item' at 0x0000028AE747C590>]\n",
      "$6.00\n",
      "breakfast burritos\n",
      "$4.00\n",
      "pancakes\n"
     ]
    }
   ],
   "source": [
    "#태그 안의 프린트\n",
    "# item 태그 전체 리스트 출력\n",
    "print(root[0].findall('item'))\n",
    "\n",
    "# 각 item 요소의 'price' 속성과 텍스트 내용 출력\n",
    "for item in root[0].findall('item'):\n",
    "    print(item.get('price'))\n",
    "    print(item.text)\n"
   ]
  },
  {
   "cell_type": "code",
   "execution_count": 21,
   "id": "ec4bc0a9-e2ff-4aa0-b2b9-722a8085d856",
   "metadata": {},
   "outputs": [
    {
     "name": "stdout",
     "output_type": "stream",
     "text": [
      "{'name': '홍길동', 'birth': '0525', 'age': 30}\n"
     ]
    }
   ],
   "source": [
    "import json\n",
    "\n",
    "j1 = {\"name\": \"홍길동\", \"birth\": \"0525\", \"age\": 30}\n",
    "\n",
    "print(j1)\n"
   ]
  },
  {
   "cell_type": "code",
   "execution_count": 23,
   "id": "ca337286-cfa9-46b1-82eb-f28c8b7fb6ea",
   "metadata": {},
   "outputs": [
    {
     "data": {
      "text/plain": [
       "'{\"name\": \"\\\\ud64d\\\\uae38\\\\ub3d9\", \"birth\": \"0525\", \"age\": 30}'"
      ]
     },
     "execution_count": 23,
     "metadata": {},
     "output_type": "execute_result"
    }
   ],
   "source": [
    "json.dumps(j1)\n",
    "# 출력: '{\"name\": \"\\\\ubc15\\\\uc751\\\\uc6a9\", \"birth\": \"0525\", \"age\": 30}'"
   ]
  },
  {
   "cell_type": "code",
   "execution_count": 24,
   "id": "22f4d2c0-c036-45bb-b4f6-c900588f4b54",
   "metadata": {},
   "outputs": [
    {
     "name": "stdout",
     "output_type": "stream",
     "text": [
      "{\n",
      "  \"name\": \"\\ud64d\\uae38\\ub3d9\",\n",
      "  \"birth\": \"0525\",\n",
      "  \"age\": 30\n",
      "}\n"
     ]
    }
   ],
   "source": [
    "import json\n",
    "\n",
    "j1 = {\"name\": \"홍길동\", \"birth\": \"0525\", \"age\": 30}\n",
    "\n",
    "print(json.dumps(j1, indent=2))\n"
   ]
  },
  {
   "cell_type": "code",
   "execution_count": 25,
   "id": "6303c530-d7ce-4410-8eb8-4dc548f29c62",
   "metadata": {},
   "outputs": [
    {
     "data": {
      "text/plain": [
       "'[1, 2, 3]'"
      ]
     },
     "execution_count": 25,
     "metadata": {},
     "output_type": "execute_result"
    }
   ],
   "source": [
    "json.dumps([1,2,3])"
   ]
  },
  {
   "cell_type": "code",
   "execution_count": 26,
   "id": "9faf4c75-5a75-48c3-9fa1-a0d4e4734a4d",
   "metadata": {},
   "outputs": [
    {
     "data": {
      "text/plain": [
       "'[4, 5, 6]'"
      ]
     },
     "execution_count": 26,
     "metadata": {},
     "output_type": "execute_result"
    }
   ],
   "source": [
    "json.dumps((4,5,6))"
   ]
  },
  {
   "cell_type": "code",
   "execution_count": 28,
   "id": "21d5ec46-a2c9-43ca-9d10-62e4190fdaf6",
   "metadata": {},
   "outputs": [
    {
     "data": {
      "text/plain": [
       "{'name': '홍길동', 'birth': '0525', 'age': 30}"
      ]
     },
     "execution_count": 28,
     "metadata": {},
     "output_type": "execute_result"
    }
   ],
   "source": [
    "j1 = {\"name\":\"홍길동\", \"birth\":\"0525\", \"age\": 30} \n",
    "d1 = json.dumps(j1)\n",
    "json.loads(d1)"
   ]
  }
 ],
 "metadata": {
  "kernelspec": {
   "display_name": "Python 3 (ipykernel)",
   "language": "python",
   "name": "python3"
  },
  "language_info": {
   "codemirror_mode": {
    "name": "ipython",
    "version": 3
   },
   "file_extension": ".py",
   "mimetype": "text/x-python",
   "name": "python",
   "nbconvert_exporter": "python",
   "pygments_lexer": "ipython3",
   "version": "3.13.2"
  }
 },
 "nbformat": 4,
 "nbformat_minor": 5
}
