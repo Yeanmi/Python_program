{
 "cells": [
  {
   "cell_type": "code",
   "execution_count": 67,
   "id": "5322baed-3a6e-44a0-a9c6-7655b315e3b7",
   "metadata": {},
   "outputs": [],
   "source": [
    "# 9주차 예제\n",
    "# 2024273665 조연미"
   ]
  },
  {
   "cell_type": "code",
   "execution_count": 66,
   "id": "6f1d03c1-b5f8-438b-8277-4bc8239feb1d",
   "metadata": {},
   "outputs": [
    {
     "name": "stdout",
     "output_type": "stream",
     "text": [
      "[1, 2, 3, 4, 5]\n"
     ]
    }
   ],
   "source": [
    "number_list = [number for number in range(1,6)]\n",
    "print(number_list)"
   ]
  },
  {
   "cell_type": "code",
   "execution_count": 64,
   "id": "8618734d-cb07-436c-bb24-4ef5e0022278",
   "metadata": {},
   "outputs": [
    {
     "name": "stdout",
     "output_type": "stream",
     "text": [
      "[0, 1, 2, 3, 4]\n"
     ]
    }
   ],
   "source": [
    "number_list = [number-1 for number in range(1,6)]\n",
    "print(number_list)"
   ]
  },
  {
   "cell_type": "code",
   "execution_count": 15,
   "id": "fb95a153-6353-4e6e-bd7f-2897809b3192",
   "metadata": {},
   "outputs": [
    {
     "name": "stdout",
     "output_type": "stream",
     "text": [
      "[1, 3, 5]\n"
     ]
    }
   ],
   "source": [
    "a_list = [number for number in range(1,6) if number % 2 == 1]\n",
    "print(a_list)"
   ]
  },
  {
   "cell_type": "code",
   "execution_count": 18,
   "id": "11b2e211-78b2-486f-98f4-ada20ec2c550",
   "metadata": {},
   "outputs": [
    {
     "name": "stdout",
     "output_type": "stream",
     "text": [
      "[1]\n",
      "[1, 3]\n",
      "[1, 3, 5]\n"
     ]
    }
   ],
   "source": [
    "a_list = []\n",
    "for number in range(1,6): \n",
    "    if number%2 == 1:\n",
    "        a_list.append(number)\n",
    "        print(a_list)"
   ]
  },
  {
   "cell_type": "code",
   "execution_count": 19,
   "id": "bdb45a89-1d5b-4bee-9e48-f72b60186300",
   "metadata": {},
   "outputs": [
    {
     "data": {
      "text/plain": [
       "[(0, 0, 0),\n",
       " (1, 1, 1),\n",
       " (2, 4, 8),\n",
       " (3, 9, 27),\n",
       " (4, 16, 64),\n",
       " (5, 25, 125),\n",
       " (6, 36, 216),\n",
       " (7, 49, 343),\n",
       " (8, 64, 512),\n",
       " (9, 81, 729)]"
      ]
     },
     "execution_count": 19,
     "metadata": {},
     "output_type": "execute_result"
    }
   ],
   "source": [
    "sentence = ['I', 'Love', 'Python', 'Soooooo', 'MUCH!!!']\n",
    "\n",
    "# 함수 적용\n",
    "[word.lower() for word in sentence] \n",
    "# 조건 적용\n",
    "[word for word in sentence if len(word) > 6] \n",
    "# 함수 적용하여 튜플로 저장\n",
    "[(x, x ** 2, x ** 3) for x in range(10)]\n",
    "\n"
   ]
  },
  {
   "cell_type": "code",
   "execution_count": 3,
   "id": "39ba3ba6-efee-4965-af28-cbd628ec2efa",
   "metadata": {},
   "outputs": [
    {
     "name": "stdout",
     "output_type": "stream",
     "text": [
      "1 1\n",
      "1 2\n",
      "2 1\n",
      "2 2\n",
      "3 1\n",
      "3 2\n"
     ]
    }
   ],
   "source": [
    "rows = range(1,4) \n",
    "cols = range(1,3) \n",
    "for row in rows:\n",
    "    for col in cols: \n",
    "        print(row, col)"
   ]
  },
  {
   "cell_type": "code",
   "execution_count": 4,
   "id": "5bac436a-ede7-4655-8245-6e89f51d6d86",
   "metadata": {},
   "outputs": [
    {
     "name": "stdout",
     "output_type": "stream",
     "text": [
      "(1, 1)\n",
      "(1, 2)\n",
      "(2, 1)\n",
      "(2, 2)\n",
      "(3, 1)\n",
      "(3, 2)\n"
     ]
    }
   ],
   "source": [
    "rows = range(1,4) \n",
    "cols = range(1,3)\n",
    "cells = [(row, col) for row in rows for col in cols] \n",
    "for cell in cells:\n",
    "    print(cell)"
   ]
  },
  {
   "cell_type": "code",
   "execution_count": 5,
   "id": "2f7b98b8-ed65-4d2a-9b34-8b43edf6198c",
   "metadata": {},
   "outputs": [
    {
     "data": {
      "text/plain": [
       "[(1, 0),\n",
       " (2, 0),\n",
       " (2, 1),\n",
       " (3, 0),\n",
       " (3, 1),\n",
       " (3, 2),\n",
       " (4, 0),\n",
       " (4, 1),\n",
       " (4, 2),\n",
       " (4, 3)]"
      ]
     },
     "execution_count": 5,
     "metadata": {},
     "output_type": "execute_result"
    }
   ],
   "source": [
    "[(i,j) for i in range(5) for j in range(i)]"
   ]
  },
  {
   "cell_type": "code",
   "execution_count": 10,
   "id": "4111f37a-de4d-474f-8316-b8f8ce6d45fd",
   "metadata": {},
   "outputs": [
    {
     "name": "stdout",
     "output_type": "stream",
     "text": [
      "{'r': 1, 'l': 1, 't': 2, 'e': 2, 's': 1}\n"
     ]
    }
   ],
   "source": [
    "word = 'letters'\n",
    "letter_counts = {letter: word.count(letter) for letter in set(word)}\n",
    "print(letter_counts)"
   ]
  },
  {
   "cell_type": "code",
   "execution_count": 20,
   "id": "99dc97e5-87ee-492b-8c51-a4847ac8bfc5",
   "metadata": {},
   "outputs": [
    {
     "name": "stdout",
     "output_type": "stream",
     "text": [
      "{1, 4}\n"
     ]
    }
   ],
   "source": [
    "a_set = {number for number in range(1,6) if number % 3 == 1}\n",
    "print(a_set)"
   ]
  },
  {
   "cell_type": "code",
   "execution_count": 21,
   "id": "790ade70-f5cd-4fac-9dbc-71127abeba3d",
   "metadata": {},
   "outputs": [],
   "source": [
    "def function_name(param1, param2):\n",
    "    value - do_something()\n",
    "    return value"
   ]
  },
  {
   "cell_type": "code",
   "execution_count": 23,
   "id": "284e757c-57d3-4312-8c85-4aec8efa8dff",
   "metadata": {},
   "outputs": [
    {
     "data": {
      "text/plain": [
       "3"
      ]
     },
     "execution_count": 23,
     "metadata": {},
     "output_type": "execute_result"
    }
   ],
   "source": [
    "def sum(a, b):\n",
    "    return a+b\n",
    "sum(1, 2)"
   ]
  },
  {
   "cell_type": "code",
   "execution_count": 24,
   "id": "68b4cc9c-8e1b-417e-aa46-f86642a59c4f",
   "metadata": {},
   "outputs": [
    {
     "data": {
      "text/plain": [
       "4.4"
      ]
     },
     "execution_count": 24,
     "metadata": {},
     "output_type": "execute_result"
    }
   ],
   "source": [
    "def sum(a, b):\n",
    "    return a+b\n",
    "sum(1.3, 3.1)"
   ]
  },
  {
   "cell_type": "code",
   "execution_count": 26,
   "id": "8c18be4a-9b25-4b62-a0e1-30e689e6873d",
   "metadata": {},
   "outputs": [
    {
     "data": {
      "text/plain": [
       "'love python'"
      ]
     },
     "execution_count": 26,
     "metadata": {},
     "output_type": "execute_result"
    }
   ],
   "source": [
    "def sum(a, b):\n",
    "    return a+b\n",
    "sum('love ', 'python')"
   ]
  },
  {
   "cell_type": "code",
   "execution_count": 27,
   "id": "f28cb961-8b35-4e8f-b6ea-367798998678",
   "metadata": {},
   "outputs": [
    {
     "name": "stdout",
     "output_type": "stream",
     "text": [
      "Monday : drink coffee - eat banana - enjoy tiramisu\n",
      "Tuesday : drink tea - eat orange - enjoy ice cream\n",
      "Wednesday : drink beer - eat peach - enjoy pie\n"
     ]
    }
   ],
   "source": [
    "days = ['Monday', 'Tuesday', 'Wednesday'] \n",
    "fruits = ['banana', 'orange', 'peach'] \n",
    "drinks = ['coffee', 'tea', 'beer']\n",
    "desserts = ['tiramisu', 'ice cream', 'pie', 'pudding']\n",
    "for day, fruit, drink, dessert in zip(days, fruits, drinks, desserts): \n",
    "    print(day, \": drink\", drink, \"- eat\", fruit, \"- enjoy\", dessert)"
   ]
  },
  {
   "cell_type": "code",
   "execution_count": 28,
   "id": "88a86e55-ade4-4de0-a299-b44864afcd39",
   "metadata": {},
   "outputs": [
    {
     "data": {
      "text/plain": [
       "{'Monday': 'Lundi', 'Tuesday': 'Mardi', 'Wednesday': 'Mercredi'}"
      ]
     },
     "execution_count": 28,
     "metadata": {},
     "output_type": "execute_result"
    }
   ],
   "source": [
    "english = 'Monday', 'Tuesday', 'Wednesday' \n",
    "french = 'Lundi', 'Mardi', 'Mercredi'\n",
    "list( zip(english, french) )\n",
    "# [('Monday', 'Lundi'), ('Tuesday', 'Mardi'), ('Wednesday', 'Mercredi')] \n",
    "dict( zip(english, french) )\n",
    "# {'Monday': 'Lundi', 'Tuesday': 'Mardi', 'Wednesday': 'Mercredi'}"
   ]
  },
  {
   "cell_type": "code",
   "execution_count": 32,
   "id": "a7415d06-a884-4559-a9b5-606d54834de6",
   "metadata": {},
   "outputs": [
    {
     "data": {
      "text/plain": [
       "{'wine': 'chardonnay', 'entree': 'chicken', 'dessert': 'cake'}"
      ]
     },
     "execution_count": 32,
     "metadata": {},
     "output_type": "execute_result"
    }
   ],
   "source": [
    "# wine, entree, dessert를 받아서 딕셔너리로 만들어 반환하는 함수 \n",
    "def menu(wine, entree, dessert):\n",
    "    return {'wine': wine, 'entree': entree, 'dessert': dessert}\n",
    "menu('chardonnay', 'chicken', 'cake')"
   ]
  },
  {
   "cell_type": "code",
   "execution_count": 35,
   "id": "b7fd8ff0-2b51-44bb-93bf-ad1eca5c3b52",
   "metadata": {},
   "outputs": [
    {
     "data": {
      "text/plain": [
       "{'wine': 'bordeaux', 'entree': 'beef', 'dessert': 'bagel'}"
      ]
     },
     "execution_count": 35,
     "metadata": {},
     "output_type": "execute_result"
    }
   ],
   "source": [
    "# wine, entree, dessert를 받아서 딕셔너리로 만들어 반환하는 함수 \n",
    "def menu(wine, entree, dessert):\n",
    "    return {'wine': wine, 'entree': entree, 'dessert': dessert}\n",
    "menu(entree='beef', dessert='bagel', wine='bordeaux')"
   ]
  },
  {
   "cell_type": "code",
   "execution_count": 37,
   "id": "04a091ba-389d-4d1b-9cd8-f0a248b13b21",
   "metadata": {},
   "outputs": [
    {
     "data": {
      "text/plain": [
       "{'wine': 'frontenac', 'entree': 'fish', 'dessert': 'flan'}"
      ]
     },
     "execution_count": 37,
     "metadata": {},
     "output_type": "execute_result"
    }
   ],
   "source": [
    "def menu(wine, entree, dessert):\n",
    "    return {'wine': wine, 'entree': entree, 'dessert': dessert}\n",
    "menu('frontenac', dessert='flan', entree='fish')\n",
    "#{'entree': 'fish', 'dessert': 'flan', 'wine': 'frontenac'}"
   ]
  },
  {
   "cell_type": "code",
   "execution_count": 38,
   "id": "d68e57d0-ddeb-490c-aa32-1926e1c80bd4",
   "metadata": {},
   "outputs": [
    {
     "data": {
      "text/plain": [
       "{'wine': 'frontenac', 'entree': 'fish', 'dessert': 'flan'}"
      ]
     },
     "execution_count": 38,
     "metadata": {},
     "output_type": "execute_result"
    }
   ],
   "source": [
    "menu('frontenac', dessert='flan', entree='fish')\n",
    "#{'entree': 'fish', 'dessert': 'flan', 'wine': 'frontenac'}"
   ]
  },
  {
   "cell_type": "code",
   "execution_count": 41,
   "id": "6969b58d-8577-4be1-8323-1a32ed6eb185",
   "metadata": {},
   "outputs": [],
   "source": [
    "# dessert의 기본값을 정해줌\n",
    "def menu(wine, entree, dessert='pudding'):\n",
    "    return {'wine': wine, 'entree': entree, 'dessert': dessert}"
   ]
  },
  {
   "cell_type": "code",
   "execution_count": 42,
   "id": "49914f16-f4b0-4d3e-aa8a-4bcbb8a2f3c6",
   "metadata": {},
   "outputs": [
    {
     "data": {
      "text/plain": [
       "{'wine': 'chardonnay', 'entree': 'chicken', 'dessert': 'pudding'}"
      ]
     },
     "execution_count": 42,
     "metadata": {},
     "output_type": "execute_result"
    }
   ],
   "source": [
    "menu('chardonnay', 'chicken')\n",
    "#{'dessert': pudding ’, 'wine': 'chardonnay', 'entree': 'chicken'}"
   ]
  },
  {
   "cell_type": "code",
   "execution_count": 43,
   "id": "4f519f88-6b8e-4133-906b-0059239f8584",
   "metadata": {},
   "outputs": [
    {
     "data": {
      "text/plain": [
       "{'wine': 'dunkelfelder', 'entree': 'duck', 'dessert': 'doughnut'}"
      ]
     },
     "execution_count": 43,
     "metadata": {},
     "output_type": "execute_result"
    }
   ],
   "source": [
    " menu('dunkelfelder', 'duck', 'doughnut')\n",
    "#{'dessert': 'doughnut', 'wine': 'dunkelfelder', 'entree': 'duck'}"
   ]
  },
  {
   "cell_type": "code",
   "execution_count": 48,
   "id": "5ea9f518-6a83-4f76-9559-dcfd36724808",
   "metadata": {},
   "outputs": [
    {
     "data": {
      "text/plain": [
       "{'price': 100, 'wine': 'chardonnay', 'entree': 'chicken', 'dessert': 'pudding'}"
      ]
     },
     "execution_count": 48,
     "metadata": {},
     "output_type": "execute_result"
    }
   ],
   "source": [
    "def menu(price, wine='chardonnay', entree='chicken', dessert='pudding'): \n",
    "    return {'price': price, 'wine': wine, 'entree': entree, 'dessert': dessert}\n",
    "menu(100)"
   ]
  },
  {
   "cell_type": "code",
   "execution_count": 68,
   "id": "1de391d0-3c5f-4908-8430-f04c706b7e1e",
   "metadata": {},
   "outputs": [
    {
     "data": {
      "text/plain": [
       "{'price': 120, 'wine': 'chardonnay', 'entree': 'beef', 'dessert': 'pudding'}"
      ]
     },
     "execution_count": 68,
     "metadata": {},
     "output_type": "execute_result"
    }
   ],
   "source": [
    "menu(price=120, entree='beef')          # 2 키워드 인자\n"
   ]
  },
  {
   "cell_type": "code",
   "execution_count": 69,
   "id": "c63a7cf2-c03a-4d69-b022-9712cf651901",
   "metadata": {},
   "outputs": [
    {
     "data": {
      "text/plain": [
       "{'price': 110, 'wine': 'chardonnay', 'entree': 'chicken', 'dessert': 'bagel'}"
      ]
     },
     "execution_count": 69,
     "metadata": {},
     "output_type": "execute_result"
    }
   ],
   "source": [
    "menu(dessert='bagel', price=110)       # 2 키워드 인자"
   ]
  },
  {
   "cell_type": "code",
   "execution_count": 71,
   "id": "6f8a8944-dc44-499f-b009-a810e318f1bd",
   "metadata": {},
   "outputs": [
    {
     "data": {
      "text/plain": [
       "{'price': 'eightysaint-pierre',\n",
       " 'wine': 'fish',\n",
       " 'entree': 'chicken',\n",
       " 'dessert': 'pudding'}"
      ]
     },
     "execution_count": 71,
     "metadata": {},
     "output_type": "execute_result"
    }
   ],
   "source": [
    "menu('eighty' 'saint-pierre', 'fish')         # 3 위치 인자"
   ]
  },
  {
   "cell_type": "code",
   "execution_count": 72,
   "id": "ba5adfd3-4e6a-4542-aa34-23c6cd40837a",
   "metadata": {},
   "outputs": [
    {
     "data": {
      "text/plain": [
       "{'price': 'hundred',\n",
       " 'wine': 'saint-pierre',\n",
       " 'entree': 'chicken',\n",
       " 'dessert': 'pudding'}"
      ]
     },
     "execution_count": 72,
     "metadata": {},
     "output_type": "execute_result"
    }
   ],
   "source": [
    "menu('hundred', wine='saint-pierre') # 1 위치 인자, 1 키워드 인자"
   ]
  },
  {
   "cell_type": "code",
   "execution_count": 57,
   "id": "f6fbe6d0-0835-4f80-88e2-aea61f2d6135",
   "metadata": {},
   "outputs": [],
   "source": [
    "def menu(price, wine='chardonnay', entree='chicken', dessert='pudding'): \n",
    "    return {'price': price, 'wine': wine, 'entree': entree, 'dessert': dessert}\n",
    "#menu() # price에 인자가 할당이 안됨\n",
    "#menu(price=100, ‘saint-pierre’)           # 키워드 인자 할당 후, 위치 인자\n",
    "#menu(100, price=120)  # 같은 변수에 두 번 할당 \n",
    "#menu(main='cream pasta') # 정의되지 않은 매개변수"
   ]
  },
  {
   "cell_type": "code",
   "execution_count": 58,
   "id": "04389640-061f-4524-b00e-e479d322b25b",
   "metadata": {},
   "outputs": [],
   "source": [
    "def echo(anything):\n",
    "    'echo returns its input argument' \n",
    "    return anything"
   ]
  },
  {
   "cell_type": "code",
   "execution_count": 59,
   "id": "b5c6a6db-06f4-43df-9c56-e905d0412cfc",
   "metadata": {},
   "outputs": [],
   "source": [
    "def print_if_true(thing, check): \n",
    "    \"\"\"\n",
    "    Prints the first argument if a second argument is true. \n",
    "    The operation is:\n",
    "    1. Check whether the *second* argument is true.\n",
    "    2. If it is, print the *first* argument. \n",
    "    \"\"\"\n",
    "    if check: \n",
    "        print(thing)"
   ]
  },
  {
   "cell_type": "code",
   "execution_count": 60,
   "id": "d1debed7-709a-4a8a-a561-100dc4db9de5",
   "metadata": {},
   "outputs": [
    {
     "name": "stdout",
     "output_type": "stream",
     "text": [
      "Help on function echo in module __main__:\n",
      "\n",
      "echo(anything)\n",
      "    echo returns its input argument\n",
      "\n"
     ]
    }
   ],
   "source": [
    "help(echo)"
   ]
  },
  {
   "cell_type": "code",
   "execution_count": 62,
   "id": "d2032dc4-2318-4aa0-a3e8-2d4cf11e280f",
   "metadata": {},
   "outputs": [
    {
     "name": "stdout",
     "output_type": "stream",
     "text": [
      "echo returns its input argument\n"
     ]
    }
   ],
   "source": [
    "print(echo.__doc__)"
   ]
  },
  {
   "cell_type": "code",
   "execution_count": null,
   "id": "15e87015-09b7-4589-9db0-309fc376ca52",
   "metadata": {},
   "outputs": [],
   "source": []
  }
 ],
 "metadata": {
  "kernelspec": {
   "display_name": "Python 3 (ipykernel)",
   "language": "python",
   "name": "python3"
  },
  "language_info": {
   "codemirror_mode": {
    "name": "ipython",
    "version": 3
   },
   "file_extension": ".py",
   "mimetype": "text/x-python",
   "name": "python",
   "nbconvert_exporter": "python",
   "pygments_lexer": "ipython3",
   "version": "3.13.2"
  }
 },
 "nbformat": 4,
 "nbformat_minor": 5
}
