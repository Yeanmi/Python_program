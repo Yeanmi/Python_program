{
 "cells": [
  {
   "cell_type": "code",
   "execution_count": 4,
   "id": "037b128b-ac07-4ea1-abb8-07753a89afe5",
   "metadata": {},
   "outputs": [
    {
     "name": "stdout",
     "output_type": "stream",
     "text": [
      "Hello, world!\n"
     ]
    }
   ],
   "source": [
    "#Excercise 1 (Types) Your First Program\n",
    "#2024273665 조연미\n",
    "print (\"Hello, world!\")"
   ]
  },
  {
   "cell_type": "code",
   "execution_count": 5,
   "id": "1fc01a0f-8984-4247-ba6f-b777866bba27",
   "metadata": {},
   "outputs": [
    {
     "data": {
      "text/plain": [
       "float"
      ]
     },
     "execution_count": 5,
     "metadata": {},
     "output_type": "execute_result"
    }
   ],
   "source": [
    "#Excercise 2 (Types) object type of 12.0\n",
    "#2024273665 조연미\n",
    "type(12.0)"
   ]
  },
  {
   "cell_type": "code",
   "execution_count": 6,
   "id": "3bf6952d-2f63-4d87-98b4-2a985ee22219",
   "metadata": {},
   "outputs": [
    {
     "data": {
      "text/plain": [
       "float"
      ]
     },
     "execution_count": 6,
     "metadata": {},
     "output_type": "execute_result"
    }
   ],
   "source": [
    "#Excercise 3 (Types)\n",
    "#2024273665 조연미\n",
    "type(6/2)"
   ]
  },
  {
   "cell_type": "code",
   "execution_count": 7,
   "id": "ce396fb4-bc12-40fa-8a54-9cc372d34582",
   "metadata": {},
   "outputs": [
    {
     "data": {
      "text/plain": [
       "int"
      ]
     },
     "execution_count": 7,
     "metadata": {},
     "output_type": "execute_result"
    }
   ],
   "source": [
    "#Excercise 3 (Types)\n",
    "#2024273665 조연미\n",
    "type(6//2)"
   ]
  },
  {
   "cell_type": "code",
   "execution_count": 9,
   "id": "decd044c-e3c3-4416-999a-135540fdc887",
   "metadata": {},
   "outputs": [
    {
     "data": {
      "text/plain": [
       "2.6666666666666665"
      ]
     },
     "execution_count": 9,
     "metadata": {},
     "output_type": "execute_result"
    }
   ],
   "source": [
    "#Excercise 4 Expression Let's write an expression that calculates how many hours there are in 160 minutes\n",
    "#2024273665 조연미\n",
    "160/60"
   ]
  },
  {
   "cell_type": "code",
   "execution_count": 14,
   "id": "d4616105-64b9-4b56-a2ef-d28f6e2d2788",
   "metadata": {},
   "outputs": [
    {
     "name": "stdout",
     "output_type": "stream",
     "text": [
      "7\n"
     ]
    }
   ],
   "source": [
    "#Exercise 5 (Types): Expression and Variables in Python  What is the value of x where x = 3 + 2 * 2\n",
    "#2024273665 조연미\n",
    "x=3+2*2\n",
    "print(x)"
   ]
  },
  {
   "cell_type": "code",
   "execution_count": null,
   "id": "26f29822-919c-4722-96cd-7cc403ce8204",
   "metadata": {},
   "outputs": [],
   "source": []
  }
 ],
 "metadata": {
  "kernelspec": {
   "display_name": "Python 3 (ipykernel)",
   "language": "python",
   "name": "python3"
  },
  "language_info": {
   "codemirror_mode": {
    "name": "ipython",
    "version": 3
   },
   "file_extension": ".py",
   "mimetype": "text/x-python",
   "name": "python",
   "nbconvert_exporter": "python",
   "pygments_lexer": "ipython3",
   "version": "3.13.2"
  }
 },
 "nbformat": 4,
 "nbformat_minor": 5
}
