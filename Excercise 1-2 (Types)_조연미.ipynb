{
 "cells": [
  {
   "cell_type": "code",
   "execution_count": 2,
   "id": "037b128b-ac07-4ea1-abb8-07753a89afe5",
   "metadata": {},
   "outputs": [
    {
     "name": "stdout",
     "output_type": "stream",
     "text": [
      "Hello, world!\n"
     ]
    }
   ],
   "source": [
    "#Excercise 1 (Types) Your First Program\n",
    "#2024273665 조연미\n",
    "print (\"Hello, world!\")\n"
   ]
  },
  {
   "cell_type": "code",
   "execution_count": 1,
   "id": "1fc01a0f-8984-4247-ba6f-b777866bba27",
   "metadata": {},
   "outputs": [
    {
     "data": {
      "text/plain": [
       "float"
      ]
     },
     "execution_count": 1,
     "metadata": {},
     "output_type": "execute_result"
    }
   ],
   "source": [
    "#Excercise 2 (Types) object type of 12.0\n",
    "#2024273665 조연미\n",
    "type(12.0)"
   ]
  },
  {
   "cell_type": "code",
   "execution_count": null,
   "id": "3bf6952d-2f63-4d87-98b4-2a985ee22219",
   "metadata": {},
   "outputs": [],
   "source": []
  }
 ],
 "metadata": {
  "kernelspec": {
   "display_name": "Python 3 (ipykernel)",
   "language": "python",
   "name": "python3"
  },
  "language_info": {
   "codemirror_mode": {
    "name": "ipython",
    "version": 3
   },
   "file_extension": ".py",
   "mimetype": "text/x-python",
   "name": "python",
   "nbconvert_exporter": "python",
   "pygments_lexer": "ipython3",
   "version": "3.13.2"
  }
 },
 "nbformat": 4,
 "nbformat_minor": 5
}
