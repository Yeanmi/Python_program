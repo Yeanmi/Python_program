{
 "cells": [
  {
   "cell_type": "code",
   "execution_count": 9,
   "id": "b98b6047-b0d9-460b-8e40-89182dd2769f",
   "metadata": {},
   "outputs": [
    {
     "name": "stdout",
     "output_type": "stream",
     "text": [
      "This album is Amazing!\n"
     ]
    }
   ],
   "source": [
    "#2024273665 조연미\n",
    "#Write an if statement to determine if an album had a rating greater than 8. \n",
    "#Test it using the rating for the album “Back in Black” that had a rating of 8.5. \n",
    "#If the statement is true print \"This album is Amazing!\"\n",
    "\n",
    "rating = 9\n",
    "\n",
    "if rating > 8 :\n",
    " print (\"This album is Amazing!\")"
   ]
  },
  {
   "cell_type": "code",
   "execution_count": 19,
   "id": "fb9c904a-5e2c-4086-b0cd-fbacc4f7f335",
   "metadata": {},
   "outputs": [
    {
     "name": "stdout",
     "output_type": "stream",
     "text": [
      "the year the album came out\n"
     ]
    }
   ],
   "source": [
    "#Write an if statement to determine if an album came out before 1980 or in the years: 1991 or 1993. \n",
    "#If the condition is true print out the year the album came out.\n",
    "\n",
    "album=1979\n",
    "if (album < 1980):\n",
    "    print(\"the year the album came out\")\n",
    "elif (album == 1991):\n",
    "    print(\"the year the album came out\")\n",
    "elif (album == 1993):\n",
    "    print(\"the year the album came out\")\n",
    "else:\n",
    "    print(\"Error\")"
   ]
  },
  {
   "cell_type": "code",
   "execution_count": null,
   "id": "34a53dae-52ee-418a-a773-797fc9a3d246",
   "metadata": {},
   "outputs": [],
   "source": []
  }
 ],
 "metadata": {
  "kernelspec": {
   "display_name": "Python 3 (ipykernel)",
   "language": "python",
   "name": "python3"
  },
  "language_info": {
   "codemirror_mode": {
    "name": "ipython",
    "version": 3
   },
   "file_extension": ".py",
   "mimetype": "text/x-python",
   "name": "python",
   "nbconvert_exporter": "python",
   "pygments_lexer": "ipython3",
   "version": "3.13.2"
  }
 },
 "nbformat": 4,
 "nbformat_minor": 5
}
