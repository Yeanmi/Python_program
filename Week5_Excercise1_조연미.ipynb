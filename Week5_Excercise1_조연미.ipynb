{
 "cells": [
  {
   "cell_type": "code",
   "execution_count": 2,
   "id": "24e3871d-9379-48a9-aa5a-05c4227ec212",
   "metadata": {},
   "outputs": [
    {
     "name": "stdout",
     "output_type": "stream",
     "text": [
      "range is -5\n",
      "range is -4\n",
      "range is -3\n",
      "range is -2\n",
      "range is -1\n",
      "range is 0\n",
      "range is 1\n",
      "range is 2\n",
      "range is 3\n",
      "range is 4\n",
      "range is 5\n"
     ]
    }
   ],
   "source": [
    "#2024273665 조연미\n",
    "#Write a for loop the prints out all the element between -5 and 5 using the range function.\n",
    "range=[-5, -4, -3, -2, -1, 0, 1, 2, 3, 4, 5]\n",
    "for i in range:\n",
    "    print(\"range is\", i)"
   ]
  },
  {
   "cell_type": "code",
   "execution_count": 3,
   "id": "17c91033-e8c1-4707-a5ce-29e0f9e7f05a",
   "metadata": {},
   "outputs": [
    {
     "name": "stdout",
     "output_type": "stream",
     "text": [
      "rock\n",
      "R&B\n",
      "Soundtrack\n",
      "R&B\n",
      "soul\n",
      "pop\n"
     ]
    }
   ],
   "source": [
    "#Print the elements of the following list: Genres=[ 'rock', 'R&B', 'Soundtrack', 'R&B', 'soul', 'pop'] Make sure you follow Python conventions.\n",
    "Genres=[ 'rock', 'R&B', 'Soundtrack', 'R&B', 'soul', 'pop']\n",
    "for i in Genres:\n",
    "    print(i)"
   ]
  },
  {
   "cell_type": "code",
   "execution_count": 4,
   "id": "7791337f-0c5f-4410-8768-1be9c0db1ded",
   "metadata": {},
   "outputs": [
    {
     "name": "stdout",
     "output_type": "stream",
     "text": [
      "red\n",
      "yellow\n",
      "green\n",
      "purple\n",
      "blue\n"
     ]
    }
   ],
   "source": [
    "#Write a for loop that prints out the following list: squares=['red', 'yellow', 'green', 'purple', 'blue']\n",
    "squares=['red', 'yellow', 'green', 'purple', 'blue']\n",
    "for i in squares:\n",
    "    print(i)"
   ]
  },
  {
   "cell_type": "code",
   "execution_count": 10,
   "id": "f5fe09a5-5d47-49e1-afcd-5a1abd625742",
   "metadata": {},
   "outputs": [
    {
     "name": "stdout",
     "output_type": "stream",
     "text": [
      "10\n",
      "9.5\n",
      "10\n",
      "8\n",
      "7.5\n",
      "End\n"
     ]
    }
   ],
   "source": [
    "#Write a while loop to display the values of the Rating of an album playlist stored in the list PlayListRatings. \n",
    "#If the score is less than 6, exit the loop. The list PlayListRatings is given by: PlayListRatings = [10, 9.5, 10, 8, 7.5, 5, 10, 10]\n",
    "\n",
    "PlayListRatings = [10, 9.5, 10, 8, 7.5, 5, 10, 10]\n",
    "i=1\n",
    "score=PlayListRatings[0]\n",
    "\n",
    "while(score>=6):\n",
    "    print(score)\n",
    "    score=PlayListRatings[i]\n",
    "    i=i+1\n",
    "\n",
    "print(\"End\")"
   ]
  },
  {
   "cell_type": "code",
   "execution_count": 18,
   "id": "6a07ea4f-d3d5-46b5-b518-94ac34ae540e",
   "metadata": {},
   "outputs": [
    {
     "name": "stdout",
     "output_type": "stream",
     "text": [
      "orange\n",
      "orange\n",
      "Exit\n"
     ]
    }
   ],
   "source": [
    "#Write a while loop to copy the strings 'orange' of the list squares to the list new_squares. Stop and exit the loop if the value on the list is not 'orange':\n",
    "squares = ['orange', 'orange', 'purple', 'blue ', 'orange']\n",
    "i=0\n",
    "new_squares = squares[0]\n",
    "\n",
    "while(squares[i]=='orange'):\n",
    "    print(new_squares)\n",
    "    new_squares=squares[i]\n",
    "    i=i+1\n",
    "\n",
    "print(\"Exit\")\n",
    "    "
   ]
  },
  {
   "cell_type": "code",
   "execution_count": null,
   "id": "1bf9b530-42d2-4eec-9646-a054fff142d3",
   "metadata": {},
   "outputs": [],
   "source": []
  }
 ],
 "metadata": {
  "kernelspec": {
   "display_name": "Python 3 (ipykernel)",
   "language": "python",
   "name": "python3"
  },
  "language_info": {
   "codemirror_mode": {
    "name": "ipython",
    "version": 3
   },
   "file_extension": ".py",
   "mimetype": "text/x-python",
   "name": "python",
   "nbconvert_exporter": "python",
   "pygments_lexer": "ipython3",
   "version": "3.13.2"
  }
 },
 "nbformat": 4,
 "nbformat_minor": 5
}
