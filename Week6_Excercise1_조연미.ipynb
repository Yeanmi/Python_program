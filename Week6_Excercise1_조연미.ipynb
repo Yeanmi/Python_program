{
 "cells": [
  {
   "cell_type": "code",
   "execution_count": 4,
   "id": "20e741b9-1241-45e7-8125-09127094c50b",
   "metadata": {},
   "outputs": [],
   "source": [
    "#6주차 과제1\n",
    "#2024273665 조연미\n",
    "#Come up with a function that divides the first input by the second input:\n",
    "def div(a, b):\n",
    "    c=a/b\n",
    "    return c"
   ]
  },
  {
   "cell_type": "code",
   "execution_count": null,
   "id": "6ce19317-88dc-43e8-969a-83930dd49879",
   "metadata": {},
   "outputs": [],
   "source": [
    "#Use the function con for the following question.\n",
    "def con(a, b):\n",
    "    return(a + b)\n",
    "#Can the con function we defined before be used to add to integers or strings? \n",
    "    #Yes,, con(1, 2) or con(\"abc\", \"def\")\n",
    "#Can the con function we defined before be used to concentrate a list or tuple?\n",
    "    #Yes,, con([1, 2], [3, 4])\n"
   ]
  }
 ],
 "metadata": {
  "kernelspec": {
   "display_name": "Python 3 (ipykernel)",
   "language": "python",
   "name": "python3"
  },
  "language_info": {
   "codemirror_mode": {
    "name": "ipython",
    "version": 3
   },
   "file_extension": ".py",
   "mimetype": "text/x-python",
   "name": "python",
   "nbconvert_exporter": "python",
   "pygments_lexer": "ipython3",
   "version": "3.13.2"
  }
 },
 "nbformat": 4,
 "nbformat_minor": 5
}
