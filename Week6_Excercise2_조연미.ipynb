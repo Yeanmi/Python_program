{
 "cells": [
  {
   "cell_type": "code",
   "execution_count": null,
   "id": "453393ff-9ea6-4238-850a-1b04a21fbef1",
   "metadata": {},
   "outputs": [],
   "source": [
    "#6주차 과제2\n",
    "#2024273665 조연미\n",
    "# Create a new Rectangle class for creating a rectangle object\n",
    "\n",
    "!pip install matplotlib"
   ]
  },
  {
   "cell_type": "code",
   "execution_count": null,
   "id": "af4da534-9b46-4ad3-b7a8-3f1f1bb9fb78",
   "metadata": {},
   "outputs": [],
   "source": [
    "# Import the library\n",
    "\n",
    "import matplotlib.pyplot as plt #그림을 그려줘... library.. \n",
    "%matplotlib inline  "
   ]
  },
  {
   "cell_type": "code",
   "execution_count": null,
   "id": "3e12d08a-c753-49ae-93ba-309f3d041a5f",
   "metadata": {},
   "outputs": [],
   "source": [
    "class Rectangle(object):\n",
    "    \n",
    "    # Constructor #아.. 내가 이제 객체를 하나 초기화 해서 만들어 보겠다. \n",
    "    def __init__(self, width = 2, height = 3, color ='r'): #공식처럼 사용하면 됨\n",
    "        self.height = height \n",
    "        self.width = width\n",
    "        self.color = color\n",
    "    \n",
    "    # Method\n",
    "    def drawRectangle(self):\n",
    "        plt.gca().add_patch(plt.Rectangle((0, 0), self.width, self.height ,fc=self.color))\n",
    "        plt.axis('scaled')\n",
    "        plt.show()"
   ]
  },
  {
   "cell_type": "code",
   "execution_count": null,
   "id": "c30a7ddc-df2b-4a27-8cc6-24ee239cddf0",
   "metadata": {},
   "outputs": [],
   "source": [
    "#Let’s create the object SkinnyBlueRectangle of type Rectangle. Its width will be 2 and height will be 3, and the color will be blue:\n",
    "SkinnyBlueRectangle = Rectangle(2, 10, 'blue')"
   ]
  },
  {
   "cell_type": "code",
   "execution_count": null,
   "id": "88128c0e-fa5d-48b7-a675-a0e4a2ae62dd",
   "metadata": {},
   "outputs": [],
   "source": [
    "#As before we can access the attributes of the instance of the class by using the dot notation:\n",
    "SkinnyBlueRectangle.height"
   ]
  },
  {
   "cell_type": "code",
   "execution_count": null,
   "id": "d5128ad2-e406-40c3-a43c-78c9ae53a1ae",
   "metadata": {},
   "outputs": [],
   "source": [
    "SkinnyBlueRectangle.width"
   ]
  },
  {
   "cell_type": "code",
   "execution_count": null,
   "id": "b61f87bb-1f40-4239-8048-349794754481",
   "metadata": {},
   "outputs": [],
   "source": [
    "SkinnyBlueRectangle.color"
   ]
  },
  {
   "cell_type": "code",
   "execution_count": null,
   "id": "604ff8b3-7ce7-45cb-b543-d6e70b52435f",
   "metadata": {},
   "outputs": [],
   "source": [
    "# Use the drawRectangle method to draw the shape\n",
    "\n",
    "SkinnyBlueRectangle.drawRectangle()"
   ]
  },
  {
   "cell_type": "code",
   "execution_count": null,
   "id": "4ce513d1-5d06-4b5b-9223-347a9b7dfec6",
   "metadata": {},
   "outputs": [],
   "source": [
    "#Let’s create the object FatYellowRectangle of type Rectangle\n",
    "FatYellowRectangle = Rectangle(20, 5, 'yellow')"
   ]
  },
  {
   "cell_type": "code",
   "execution_count": null,
   "id": "97b9ac1a-a2c5-481c-9b00-0feb965250a5",
   "metadata": {},
   "outputs": [],
   "source": [
    "#We can access the attributes of the instance of the class by using the dot notation:\n",
    "# Print the object attribute height\n",
    "\n",
    "FatYellowRectangle.height "
   ]
  },
  {
   "cell_type": "code",
   "execution_count": null,
   "id": "d5170092-56a7-4d22-a05a-5715c3589c8d",
   "metadata": {},
   "outputs": [],
   "source": [
    "# Print the object attribute width\n",
    "\n",
    "FatYellowRectangle.width"
   ]
  },
  {
   "cell_type": "code",
   "execution_count": null,
   "id": "5620f41a-6904-4a26-b1b1-152a06aca94f",
   "metadata": {},
   "outputs": [],
   "source": [
    "# Print the object attribute color\n",
    "\n",
    "FatYellowRectangle.color"
   ]
  },
  {
   "cell_type": "code",
   "execution_count": null,
   "id": "9032f1aa-fbad-4a7b-a6ef-96354b40390f",
   "metadata": {},
   "outputs": [],
   "source": []
  }
 ],
 "metadata": {
  "kernelspec": {
   "display_name": "Python 3 (ipykernel)",
   "language": "python",
   "name": "python3"
  },
  "language_info": {
   "codemirror_mode": {
    "name": "ipython",
    "version": 3
   },
   "file_extension": ".py",
   "mimetype": "text/x-python",
   "name": "python",
   "nbconvert_exporter": "python",
   "pygments_lexer": "ipython3",
   "version": "3.13.2"
  }
 },
 "nbformat": 4,
 "nbformat_minor": 5
}
