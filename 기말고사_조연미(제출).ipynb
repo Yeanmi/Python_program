{
 "cells": [
  {
   "cell_type": "code",
   "execution_count": 7,
   "id": "8acefabc-1dab-478e-aba7-fae0404f34f0",
   "metadata": {},
   "outputs": [],
   "source": [
    "import pandas as pd\n",
    "import matplotlib.pyplot as plt\n",
    "from matplotlib import font_manager, rc"
   ]
  },
  {
   "cell_type": "code",
   "execution_count": 8,
   "id": "2e7d2119-9014-43e9-b6a8-b3de8bd16874",
   "metadata": {},
   "outputs": [],
   "source": [
    "# 폰트 설정\n",
    "font_path = \"C:/Windows/Fonts/malgun.ttf\"  # Windows의 경우 '맑은 고딕' 폰트 사용\n",
    "font_name = font_manager.FontProperties(fname=font_path).get_name()\n",
    "rc('font', family=font_name)"
   ]
  },
  {
   "cell_type": "code",
   "execution_count": 9,
   "id": "19a6d95c-e185-4650-ae19-bcc7c71dd3f7",
   "metadata": {},
   "outputs": [],
   "source": [
    "# 파일 경로 설정 (경로에 특수 문자가 포함된 경우 raw string으로 변경)\n",
    "path_2020 = r'C:\\Users\\user\\Documents\\python_program\\성동구립도서관 장서 대출목록 (2020년 11월).csv'\n",
    "path_2023 = r'C:\\Users\\user\\Documents\\python_program\\성동구립도서관 장서 대출목록 (2023년 11월).csv'"
   ]
  },
  {
   "cell_type": "code",
   "execution_count": 11,
   "id": "8cd8b1e1-af55-4ff2-a750-8b472533fc7c",
   "metadata": {},
   "outputs": [
    {
     "ename": "UnicodeDecodeError",
     "evalue": "'utf-8' codec can't decode byte 0xb9 in position 0: invalid start byte",
     "output_type": "error",
     "traceback": [
      "\u001b[31m---------------------------------------------------------------------------\u001b[39m",
      "\u001b[31mUnicodeDecodeError\u001b[39m                        Traceback (most recent call last)",
      "\u001b[36mCell\u001b[39m\u001b[36m \u001b[39m\u001b[32mIn[11]\u001b[39m\u001b[32m, line 3\u001b[39m\n\u001b[32m      1\u001b[39m \u001b[38;5;66;03m# 데이터 불러오기\u001b[39;00m\n\u001b[32m      2\u001b[39m \u001b[38;5;28;01mtry\u001b[39;00m:\n\u001b[32m----> \u001b[39m\u001b[32m3\u001b[39m     data_2020 = \u001b[43mpd\u001b[49m\u001b[43m.\u001b[49m\u001b[43mread_csv\u001b[49m\u001b[43m(\u001b[49m\u001b[43mpath_2020\u001b[49m\u001b[43m)\u001b[49m\n\u001b[32m      4\u001b[39m     data_2023 = pd.read_csv(path_2023)\n\u001b[32m      5\u001b[39m \u001b[38;5;28;01mexcept\u001b[39;00m \u001b[38;5;167;01mFileNotFoundError\u001b[39;00m \u001b[38;5;28;01mas\u001b[39;00m e:\n",
      "\u001b[36mFile \u001b[39m\u001b[32m~\\AppData\\Local\\Programs\\Python\\Python313\\Lib\\site-packages\\pandas\\io\\parsers\\readers.py:1026\u001b[39m, in \u001b[36mread_csv\u001b[39m\u001b[34m(filepath_or_buffer, sep, delimiter, header, names, index_col, usecols, dtype, engine, converters, true_values, false_values, skipinitialspace, skiprows, skipfooter, nrows, na_values, keep_default_na, na_filter, verbose, skip_blank_lines, parse_dates, infer_datetime_format, keep_date_col, date_parser, date_format, dayfirst, cache_dates, iterator, chunksize, compression, thousands, decimal, lineterminator, quotechar, quoting, doublequote, escapechar, comment, encoding, encoding_errors, dialect, on_bad_lines, delim_whitespace, low_memory, memory_map, float_precision, storage_options, dtype_backend)\u001b[39m\n\u001b[32m   1013\u001b[39m kwds_defaults = _refine_defaults_read(\n\u001b[32m   1014\u001b[39m     dialect,\n\u001b[32m   1015\u001b[39m     delimiter,\n\u001b[32m   (...)\u001b[39m\u001b[32m   1022\u001b[39m     dtype_backend=dtype_backend,\n\u001b[32m   1023\u001b[39m )\n\u001b[32m   1024\u001b[39m kwds.update(kwds_defaults)\n\u001b[32m-> \u001b[39m\u001b[32m1026\u001b[39m \u001b[38;5;28;01mreturn\u001b[39;00m \u001b[43m_read\u001b[49m\u001b[43m(\u001b[49m\u001b[43mfilepath_or_buffer\u001b[49m\u001b[43m,\u001b[49m\u001b[43m \u001b[49m\u001b[43mkwds\u001b[49m\u001b[43m)\u001b[49m\n",
      "\u001b[36mFile \u001b[39m\u001b[32m~\\AppData\\Local\\Programs\\Python\\Python313\\Lib\\site-packages\\pandas\\io\\parsers\\readers.py:620\u001b[39m, in \u001b[36m_read\u001b[39m\u001b[34m(filepath_or_buffer, kwds)\u001b[39m\n\u001b[32m    617\u001b[39m _validate_names(kwds.get(\u001b[33m\"\u001b[39m\u001b[33mnames\u001b[39m\u001b[33m\"\u001b[39m, \u001b[38;5;28;01mNone\u001b[39;00m))\n\u001b[32m    619\u001b[39m \u001b[38;5;66;03m# Create the parser.\u001b[39;00m\n\u001b[32m--> \u001b[39m\u001b[32m620\u001b[39m parser = \u001b[43mTextFileReader\u001b[49m\u001b[43m(\u001b[49m\u001b[43mfilepath_or_buffer\u001b[49m\u001b[43m,\u001b[49m\u001b[43m \u001b[49m\u001b[43m*\u001b[49m\u001b[43m*\u001b[49m\u001b[43mkwds\u001b[49m\u001b[43m)\u001b[49m\n\u001b[32m    622\u001b[39m \u001b[38;5;28;01mif\u001b[39;00m chunksize \u001b[38;5;129;01mor\u001b[39;00m iterator:\n\u001b[32m    623\u001b[39m     \u001b[38;5;28;01mreturn\u001b[39;00m parser\n",
      "\u001b[36mFile \u001b[39m\u001b[32m~\\AppData\\Local\\Programs\\Python\\Python313\\Lib\\site-packages\\pandas\\io\\parsers\\readers.py:1620\u001b[39m, in \u001b[36mTextFileReader.__init__\u001b[39m\u001b[34m(self, f, engine, **kwds)\u001b[39m\n\u001b[32m   1617\u001b[39m     \u001b[38;5;28mself\u001b[39m.options[\u001b[33m\"\u001b[39m\u001b[33mhas_index_names\u001b[39m\u001b[33m\"\u001b[39m] = kwds[\u001b[33m\"\u001b[39m\u001b[33mhas_index_names\u001b[39m\u001b[33m\"\u001b[39m]\n\u001b[32m   1619\u001b[39m \u001b[38;5;28mself\u001b[39m.handles: IOHandles | \u001b[38;5;28;01mNone\u001b[39;00m = \u001b[38;5;28;01mNone\u001b[39;00m\n\u001b[32m-> \u001b[39m\u001b[32m1620\u001b[39m \u001b[38;5;28mself\u001b[39m._engine = \u001b[38;5;28;43mself\u001b[39;49m\u001b[43m.\u001b[49m\u001b[43m_make_engine\u001b[49m\u001b[43m(\u001b[49m\u001b[43mf\u001b[49m\u001b[43m,\u001b[49m\u001b[43m \u001b[49m\u001b[38;5;28;43mself\u001b[39;49m\u001b[43m.\u001b[49m\u001b[43mengine\u001b[49m\u001b[43m)\u001b[49m\n",
      "\u001b[36mFile \u001b[39m\u001b[32m~\\AppData\\Local\\Programs\\Python\\Python313\\Lib\\site-packages\\pandas\\io\\parsers\\readers.py:1898\u001b[39m, in \u001b[36mTextFileReader._make_engine\u001b[39m\u001b[34m(self, f, engine)\u001b[39m\n\u001b[32m   1895\u001b[39m     \u001b[38;5;28;01mraise\u001b[39;00m \u001b[38;5;167;01mValueError\u001b[39;00m(msg)\n\u001b[32m   1897\u001b[39m \u001b[38;5;28;01mtry\u001b[39;00m:\n\u001b[32m-> \u001b[39m\u001b[32m1898\u001b[39m     \u001b[38;5;28;01mreturn\u001b[39;00m \u001b[43mmapping\u001b[49m\u001b[43m[\u001b[49m\u001b[43mengine\u001b[49m\u001b[43m]\u001b[49m\u001b[43m(\u001b[49m\u001b[43mf\u001b[49m\u001b[43m,\u001b[49m\u001b[43m \u001b[49m\u001b[43m*\u001b[49m\u001b[43m*\u001b[49m\u001b[38;5;28;43mself\u001b[39;49m\u001b[43m.\u001b[49m\u001b[43moptions\u001b[49m\u001b[43m)\u001b[49m\n\u001b[32m   1899\u001b[39m \u001b[38;5;28;01mexcept\u001b[39;00m \u001b[38;5;167;01mException\u001b[39;00m:\n\u001b[32m   1900\u001b[39m     \u001b[38;5;28;01mif\u001b[39;00m \u001b[38;5;28mself\u001b[39m.handles \u001b[38;5;129;01mis\u001b[39;00m \u001b[38;5;129;01mnot\u001b[39;00m \u001b[38;5;28;01mNone\u001b[39;00m:\n",
      "\u001b[36mFile \u001b[39m\u001b[32m~\\AppData\\Local\\Programs\\Python\\Python313\\Lib\\site-packages\\pandas\\io\\parsers\\c_parser_wrapper.py:93\u001b[39m, in \u001b[36mCParserWrapper.__init__\u001b[39m\u001b[34m(self, src, **kwds)\u001b[39m\n\u001b[32m     90\u001b[39m \u001b[38;5;28;01mif\u001b[39;00m kwds[\u001b[33m\"\u001b[39m\u001b[33mdtype_backend\u001b[39m\u001b[33m\"\u001b[39m] == \u001b[33m\"\u001b[39m\u001b[33mpyarrow\u001b[39m\u001b[33m\"\u001b[39m:\n\u001b[32m     91\u001b[39m     \u001b[38;5;66;03m# Fail here loudly instead of in cython after reading\u001b[39;00m\n\u001b[32m     92\u001b[39m     import_optional_dependency(\u001b[33m\"\u001b[39m\u001b[33mpyarrow\u001b[39m\u001b[33m\"\u001b[39m)\n\u001b[32m---> \u001b[39m\u001b[32m93\u001b[39m \u001b[38;5;28mself\u001b[39m._reader = \u001b[43mparsers\u001b[49m\u001b[43m.\u001b[49m\u001b[43mTextReader\u001b[49m\u001b[43m(\u001b[49m\u001b[43msrc\u001b[49m\u001b[43m,\u001b[49m\u001b[43m \u001b[49m\u001b[43m*\u001b[49m\u001b[43m*\u001b[49m\u001b[43mkwds\u001b[49m\u001b[43m)\u001b[49m\n\u001b[32m     95\u001b[39m \u001b[38;5;28mself\u001b[39m.unnamed_cols = \u001b[38;5;28mself\u001b[39m._reader.unnamed_cols\n\u001b[32m     97\u001b[39m \u001b[38;5;66;03m# error: Cannot determine type of 'names'\u001b[39;00m\n",
      "\u001b[36mFile \u001b[39m\u001b[32mparsers.pyx:574\u001b[39m, in \u001b[36mpandas._libs.parsers.TextReader.__cinit__\u001b[39m\u001b[34m()\u001b[39m\n",
      "\u001b[36mFile \u001b[39m\u001b[32mparsers.pyx:663\u001b[39m, in \u001b[36mpandas._libs.parsers.TextReader._get_header\u001b[39m\u001b[34m()\u001b[39m\n",
      "\u001b[36mFile \u001b[39m\u001b[32mparsers.pyx:874\u001b[39m, in \u001b[36mpandas._libs.parsers.TextReader._tokenize_rows\u001b[39m\u001b[34m()\u001b[39m\n",
      "\u001b[36mFile \u001b[39m\u001b[32mparsers.pyx:891\u001b[39m, in \u001b[36mpandas._libs.parsers.TextReader._check_tokenize_status\u001b[39m\u001b[34m()\u001b[39m\n",
      "\u001b[36mFile \u001b[39m\u001b[32mparsers.pyx:2053\u001b[39m, in \u001b[36mpandas._libs.parsers.raise_parser_error\u001b[39m\u001b[34m()\u001b[39m\n",
      "\u001b[36mFile \u001b[39m\u001b[32m<frozen codecs>:325\u001b[39m, in \u001b[36mdecode\u001b[39m\u001b[34m(self, input, final)\u001b[39m\n",
      "\u001b[31mUnicodeDecodeError\u001b[39m: 'utf-8' codec can't decode byte 0xb9 in position 0: invalid start byte"
     ]
    }
   ],
   "source": [
    "# 데이터 불러오기\n",
    "try:\n",
    "    data_2020 = pd.read_csv(path_2020)\n",
    "    data_2023 = pd.read_csv(path_2023)\n",
    "except FileNotFoundError as e:\n",
    "    print(f\"파일을 찾을 수 없습니다: {e}\")\n",
    "    exit()"
   ]
  },
  {
   "cell_type": "code",
   "execution_count": 12,
   "id": "e9f8f63f-7a0a-4787-934a-34ff9dcc0364",
   "metadata": {},
   "outputs": [
    {
     "ename": "NameError",
     "evalue": "name 'data_2020' is not defined",
     "output_type": "error",
     "traceback": [
      "\u001b[31m---------------------------------------------------------------------------\u001b[39m",
      "\u001b[31mNameError\u001b[39m                                 Traceback (most recent call last)",
      "\u001b[36mCell\u001b[39m\u001b[36m \u001b[39m\u001b[32mIn[12]\u001b[39m\u001b[32m, line 2\u001b[39m\n\u001b[32m      1\u001b[39m \u001b[38;5;66;03m# 데이터 확인: 첫 몇 줄과 컬럼명을 출력\u001b[39;00m\n\u001b[32m----> \u001b[39m\u001b[32m2\u001b[39m \u001b[38;5;28mprint\u001b[39m(\u001b[33m\"\u001b[39m\u001b[33m2020년 데이터 컬럼명:\u001b[39m\u001b[33m\"\u001b[39m, \u001b[43mdata_2020\u001b[49m.columns)\n\u001b[32m      3\u001b[39m \u001b[38;5;28mprint\u001b[39m(\u001b[33m\"\u001b[39m\u001b[33m2023년 데이터 컬럼명:\u001b[39m\u001b[33m\"\u001b[39m, data_2023.columns)\n\u001b[32m      4\u001b[39m \u001b[38;5;28mprint\u001b[39m(\u001b[33m\"\u001b[39m\u001b[33m2020년 데이터 첫 줄:\u001b[39m\u001b[38;5;130;01m\\n\u001b[39;00m\u001b[33m\"\u001b[39m, data_2020.head())\n",
      "\u001b[31mNameError\u001b[39m: name 'data_2020' is not defined"
     ]
    }
   ],
   "source": [
    "# 데이터 확인: 첫 몇 줄과 컬럼명을 출력\n",
    "print(\"2020년 데이터 컬럼명:\", data_2020.columns)\n",
    "print(\"2023년 데이터 컬럼명:\", data_2023.columns)\n",
    "print(\"2020년 데이터 첫 줄:\\n\", data_2020.head())\n",
    "print(\"2023년 데이터 첫 줄:\\n\", data_2023.head())"
   ]
  },
  {
   "cell_type": "code",
   "execution_count": 13,
   "id": "16a0dfc1-928e-48cc-8b6c-7039c2f114dc",
   "metadata": {},
   "outputs": [
    {
     "ename": "NameError",
     "evalue": "name 'data_2020' is not defined",
     "output_type": "error",
     "traceback": [
      "\u001b[31m---------------------------------------------------------------------------\u001b[39m",
      "\u001b[31mNameError\u001b[39m                                 Traceback (most recent call last)",
      "\u001b[36mCell\u001b[39m\u001b[36m \u001b[39m\u001b[32mIn[13]\u001b[39m\u001b[32m, line 2\u001b[39m\n\u001b[32m      1\u001b[39m \u001b[38;5;66;03m# 전처리: 중복 제거 및 누락값 처리\u001b[39;00m\n\u001b[32m----> \u001b[39m\u001b[32m2\u001b[39m \u001b[43mdata_2020\u001b[49m.drop_duplicates(inplace=\u001b[38;5;28;01mTrue\u001b[39;00m)\n\u001b[32m      3\u001b[39m data_2023.drop_duplicates(inplace=\u001b[38;5;28;01mTrue\u001b[39;00m)\n\u001b[32m      4\u001b[39m data_2020.dropna(inplace=\u001b[38;5;28;01mTrue\u001b[39;00m)\n",
      "\u001b[31mNameError\u001b[39m: name 'data_2020' is not defined"
     ]
    }
   ],
   "source": [
    "# 전처리: 중복 제거 및 누락값 처리\n",
    "data_2020.drop_duplicates(inplace=True)\n",
    "data_2023.drop_duplicates(inplace=True)\n",
    "data_2020.dropna(inplace=True)\n",
    "data_2023.dropna(inplace=True)"
   ]
  },
  {
   "cell_type": "code",
   "execution_count": 14,
   "id": "2f9c8b72-9f0e-4985-846a-104080686dad",
   "metadata": {},
   "outputs": [
    {
     "ename": "NameError",
     "evalue": "name 'data_2023' is not defined",
     "output_type": "error",
     "traceback": [
      "\u001b[31m---------------------------------------------------------------------------\u001b[39m",
      "\u001b[31mNameError\u001b[39m                                 Traceback (most recent call last)",
      "\u001b[36mCell\u001b[39m\u001b[36m \u001b[39m\u001b[32mIn[14]\u001b[39m\u001b[32m, line 2\u001b[39m\n\u001b[32m      1\u001b[39m \u001b[38;5;66;03m# (1) 2020년 11월과 비교하여 2023년 11월 시점에서 추가된 도서의 목록 및 개수\u001b[39;00m\n\u001b[32m----> \u001b[39m\u001b[32m2\u001b[39m added_books = \u001b[43mdata_2023\u001b[49m[~data_2023[\u001b[33m'\u001b[39m\u001b[33m도서명\u001b[39m\u001b[33m'\u001b[39m].isin(data_2020[\u001b[33m'\u001b[39m\u001b[33m도서명\u001b[39m\u001b[33m'\u001b[39m])]\n\u001b[32m      3\u001b[39m added_books_count = added_books.shape[\u001b[32m0\u001b[39m]\n\u001b[32m      5\u001b[39m \u001b[38;5;66;03m# (2) 2020년 11월과 비교하여 2023년 11월 시점에서 없어진 도서의 목록 및 개수\u001b[39;00m\n",
      "\u001b[31mNameError\u001b[39m: name 'data_2023' is not defined"
     ]
    }
   ],
   "source": [
    "# (1) 2020년 11월과 비교하여 2023년 11월 시점에서 추가된 도서의 목록 및 개수\n",
    "added_books = data_2023[~data_2023['도서명'].isin(data_2020['도서명'])]\n",
    "added_books_count = added_books.shape[0]\n",
    "\n",
    "# (2) 2020년 11월과 비교하여 2023년 11월 시점에서 없어진 도서의 목록 및 개수\n",
    "removed_books = data_2020[~data_2020['도서명'].isin(data_2023['도서명'])]\n",
    "removed_books_count = removed_books.shape[0]\n",
    "\n",
    "# (3) 2020년 11월과 2023년 11월 가장 대출이 많이 발생한 도서 상위 20권의 리스트와 그 빈도수 비교\n",
    "top_20_books_2020 = data_2020['도서명'].value_counts().head(20)\n",
    "top_20_books_2023 = data_2023['도서명'].value_counts().head(20)\n",
    "\n",
    "# (4) 2020년 11월과 2023년 11월 가장 대출이 많이 발생한 도서 상위 100권 중 동일한 도서의 리스트와 그 개수\n",
    "top_100_books_2020 = set(data_2020['도서명'].value_counts().head(100).index)\n",
    "top_100_books_2023 = set(data_2023['도서명'].value_counts().head(100).index)\n",
    "common_top_100_books = top_100_books_2020.intersection(top_100_books_2023)\n",
    "common_top_100_books_count = len(common_top_100_books)\n",
    "\n",
    "# (5) 2020년 11월 가장 대출이 많이 발생한 도서 상위 50권의 당시 대출 횟수와 현재 대출 횟수 비교하여 증가한 도서와 감소한 도서 파악, 그래프로 표현\n",
    "top_50_books_2020 = data_2020['도서명'].value_counts().head(50)\n",
    "top_50_books_2023_counts = data_2023['도서명'].value_counts()"
   ]
  },
  {
   "cell_type": "code",
   "execution_count": 15,
   "id": "93afce84-70c9-4dfb-8f22-f07d95381f57",
   "metadata": {},
   "outputs": [
    {
     "ename": "NameError",
     "evalue": "name 'top_50_books_2020' is not defined",
     "output_type": "error",
     "traceback": [
      "\u001b[31m---------------------------------------------------------------------------\u001b[39m",
      "\u001b[31mNameError\u001b[39m                                 Traceback (most recent call last)",
      "\u001b[36mCell\u001b[39m\u001b[36m \u001b[39m\u001b[32mIn[15]\u001b[39m\u001b[32m, line 3\u001b[39m\n\u001b[32m      1\u001b[39m \u001b[38;5;66;03m# 인덱스가 존재하지 않는 경우 0으로 채우기\u001b[39;00m\n\u001b[32m      2\u001b[39m top_50_books_comparison = pd.DataFrame({\n\u001b[32m----> \u001b[39m\u001b[32m3\u001b[39m     \u001b[33m'\u001b[39m\u001b[33m2020\u001b[39m\u001b[33m'\u001b[39m: \u001b[43mtop_50_books_2020\u001b[49m,\n\u001b[32m      4\u001b[39m     \u001b[33m'\u001b[39m\u001b[33m2023\u001b[39m\u001b[33m'\u001b[39m: top_50_books_2023_counts.reindex(top_50_books_2020.index, fill_value=\u001b[32m0\u001b[39m)\n\u001b[32m      5\u001b[39m })\n\u001b[32m      7\u001b[39m top_50_books_comparison[\u001b[33m'\u001b[39m\u001b[33mDifference\u001b[39m\u001b[33m'\u001b[39m] = top_50_books_comparison[\u001b[33m'\u001b[39m\u001b[33m2023\u001b[39m\u001b[33m'\u001b[39m] - top_50_books_comparison[\u001b[33m'\u001b[39m\u001b[33m2020\u001b[39m\u001b[33m'\u001b[39m]\n",
      "\u001b[31mNameError\u001b[39m: name 'top_50_books_2020' is not defined"
     ]
    }
   ],
   "source": [
    "# 인덱스가 존재하지 않는 경우 0으로 채우기\n",
    "top_50_books_comparison = pd.DataFrame({\n",
    "    '2020': top_50_books_2020,\n",
    "    '2023': top_50_books_2023_counts.reindex(top_50_books_2020.index, fill_value=0)\n",
    "})\n",
    "\n",
    "top_50_books_comparison['Difference'] = top_50_books_comparison['2023'] - top_50_books_comparison['2020']"
   ]
  },
  {
   "cell_type": "code",
   "execution_count": 16,
   "id": "11c21efd-d037-4954-9552-1453c51642dd",
   "metadata": {},
   "outputs": [
    {
     "ename": "NameError",
     "evalue": "name 'top_50_books_comparison' is not defined",
     "output_type": "error",
     "traceback": [
      "\u001b[31m---------------------------------------------------------------------------\u001b[39m",
      "\u001b[31mNameError\u001b[39m                                 Traceback (most recent call last)",
      "\u001b[36mCell\u001b[39m\u001b[36m \u001b[39m\u001b[32mIn[16]\u001b[39m\u001b[32m, line 2\u001b[39m\n\u001b[32m      1\u001b[39m \u001b[38;5;66;03m# 증가한 도서와 감소한 도서 파악\u001b[39;00m\n\u001b[32m----> \u001b[39m\u001b[32m2\u001b[39m increased_books = \u001b[43mtop_50_books_comparison\u001b[49m[top_50_books_comparison[\u001b[33m'\u001b[39m\u001b[33mDifference\u001b[39m\u001b[33m'\u001b[39m] > \u001b[32m0\u001b[39m]\n\u001b[32m      3\u001b[39m decreased_books = top_50_books_comparison[top_50_books_comparison[\u001b[33m'\u001b[39m\u001b[33mDifference\u001b[39m\u001b[33m'\u001b[39m] < \u001b[32m0\u001b[39m]\n",
      "\u001b[31mNameError\u001b[39m: name 'top_50_books_comparison' is not defined"
     ]
    }
   ],
   "source": [
    "# 증가한 도서와 감소한 도서 파악\n",
    "increased_books = top_50_books_comparison[top_50_books_comparison['Difference'] > 0]\n",
    "decreased_books = top_50_books_comparison[top_50_books_comparison['Difference'] < 0]"
   ]
  },
  {
   "cell_type": "code",
   "execution_count": 17,
   "id": "161d8a3b-a1e6-4171-9527-59ab0f8b51ac",
   "metadata": {},
   "outputs": [
    {
     "ename": "NameError",
     "evalue": "name 'top_50_books_comparison' is not defined",
     "output_type": "error",
     "traceback": [
      "\u001b[31m---------------------------------------------------------------------------\u001b[39m",
      "\u001b[31mNameError\u001b[39m                                 Traceback (most recent call last)",
      "\u001b[36mCell\u001b[39m\u001b[36m \u001b[39m\u001b[32mIn[17]\u001b[39m\u001b[32m, line 3\u001b[39m\n\u001b[32m      1\u001b[39m \u001b[38;5;66;03m# 그래프로 표현\u001b[39;00m\n\u001b[32m      2\u001b[39m plt.figure(figsize=(\u001b[32m12\u001b[39m, \u001b[32m8\u001b[39m))\n\u001b[32m----> \u001b[39m\u001b[32m3\u001b[39m \u001b[43mtop_50_books_comparison\u001b[49m.sort_values(\u001b[33m'\u001b[39m\u001b[33mDifference\u001b[39m\u001b[33m'\u001b[39m, inplace=\u001b[38;5;28;01mTrue\u001b[39;00m)\n\u001b[32m      4\u001b[39m top_50_books_comparison[\u001b[33m'\u001b[39m\u001b[33mDifference\u001b[39m\u001b[33m'\u001b[39m].plot(kind=\u001b[33m'\u001b[39m\u001b[33mbarh\u001b[39m\u001b[33m'\u001b[39m, color=\u001b[33m'\u001b[39m\u001b[33mskyblue\u001b[39m\u001b[33m'\u001b[39m)\n\u001b[32m      5\u001b[39m plt.title(\u001b[33m'\u001b[39m\u001b[33mTop 50 Borrowed Books: Difference in Borrow Counts (2023 vs 2020)\u001b[39m\u001b[33m'\u001b[39m)\n",
      "\u001b[31mNameError\u001b[39m: name 'top_50_books_comparison' is not defined"
     ]
    },
    {
     "data": {
      "text/plain": [
       "<Figure size 1200x800 with 0 Axes>"
      ]
     },
     "metadata": {},
     "output_type": "display_data"
    }
   ],
   "source": [
    "# 그래프로 표현\n",
    "plt.figure(figsize=(12, 8))\n",
    "top_50_books_comparison.sort_values('Difference', inplace=True)\n",
    "top_50_books_comparison['Difference'].plot(kind='barh', color='skyblue')\n",
    "plt.title('Top 50 Borrowed Books: Difference in Borrow Counts (2023 vs 2020)')\n",
    "plt.xlabel('Difference in Borrow Counts')\n",
    "plt.ylabel('Books')\n",
    "plt.show()"
   ]
  },
  {
   "cell_type": "code",
   "execution_count": 18,
   "id": "20139351-eb9c-4317-b6a2-162074627502",
   "metadata": {},
   "outputs": [
    {
     "ename": "NameError",
     "evalue": "name 'data_2020' is not defined",
     "output_type": "error",
     "traceback": [
      "\u001b[31m---------------------------------------------------------------------------\u001b[39m",
      "\u001b[31mNameError\u001b[39m                                 Traceback (most recent call last)",
      "\u001b[36mCell\u001b[39m\u001b[36m \u001b[39m\u001b[32mIn[18]\u001b[39m\u001b[32m, line 2\u001b[39m\n\u001b[32m      1\u001b[39m \u001b[38;5;66;03m# (6) 추가 분석 - 상위 100권 도서의 평균 대출 횟수 비교\u001b[39;00m\n\u001b[32m----> \u001b[39m\u001b[32m2\u001b[39m mean_borrow_2020 = \u001b[43mdata_2020\u001b[49m[\u001b[33m'\u001b[39m\u001b[33m도서명\u001b[39m\u001b[33m'\u001b[39m].value_counts().head(\u001b[32m100\u001b[39m).mean()\n\u001b[32m      3\u001b[39m mean_borrow_2023 = data_2023[\u001b[33m'\u001b[39m\u001b[33m도서명\u001b[39m\u001b[33m'\u001b[39m].value_counts().head(\u001b[32m100\u001b[39m).mean()\n",
      "\u001b[31mNameError\u001b[39m: name 'data_2020' is not defined"
     ]
    }
   ],
   "source": [
    "# (6) 추가 분석 - 상위 100권 도서의 평균 대출 횟수 비교\n",
    "mean_borrow_2020 = data_2020['도서명'].value_counts().head(100).mean()\n",
    "mean_borrow_2023 = data_2023['도서명'].value_counts().head(100).mean()"
   ]
  },
  {
   "cell_type": "code",
   "execution_count": 19,
   "id": "c7022d82-d753-42af-8df3-afc49fff8f13",
   "metadata": {},
   "outputs": [
    {
     "ename": "NameError",
     "evalue": "name 'added_books_count' is not defined",
     "output_type": "error",
     "traceback": [
      "\u001b[31m---------------------------------------------------------------------------\u001b[39m",
      "\u001b[31mNameError\u001b[39m                                 Traceback (most recent call last)",
      "\u001b[36mCell\u001b[39m\u001b[36m \u001b[39m\u001b[32mIn[19]\u001b[39m\u001b[32m, line 2\u001b[39m\n\u001b[32m      1\u001b[39m \u001b[38;5;66;03m# 결과 출력\u001b[39;00m\n\u001b[32m----> \u001b[39m\u001b[32m2\u001b[39m \u001b[38;5;28mprint\u001b[39m(\u001b[33mf\u001b[39m\u001b[33m\"\u001b[39m\u001b[33m2023년 11월 시점에서 추가된 도서의 개수: \u001b[39m\u001b[38;5;132;01m{\u001b[39;00m\u001b[43madded_books_count\u001b[49m\u001b[38;5;132;01m}\u001b[39;00m\u001b[33m\"\u001b[39m)\n\u001b[32m      3\u001b[39m \u001b[38;5;28mprint\u001b[39m(\u001b[33mf\u001b[39m\u001b[33m\"\u001b[39m\u001b[33m2023년 11월 시점에서 없어진 도서의 개수: \u001b[39m\u001b[38;5;132;01m{\u001b[39;00mremoved_books_count\u001b[38;5;132;01m}\u001b[39;00m\u001b[33m\"\u001b[39m)\n\u001b[32m      4\u001b[39m \u001b[38;5;28mprint\u001b[39m(\u001b[33m\"\u001b[39m\u001b[38;5;130;01m\\n\u001b[39;00m\u001b[33m2020년 11월 상위 20권 도서 대출 횟수:\u001b[39m\u001b[38;5;130;01m\\n\u001b[39;00m\u001b[33m\"\u001b[39m, top_20_books_2020)\n",
      "\u001b[31mNameError\u001b[39m: name 'added_books_count' is not defined"
     ]
    }
   ],
   "source": [
    "# 결과 출력\n",
    "print(f\"2023년 11월 시점에서 추가된 도서의 개수: {added_books_count}\")\n",
    "print(f\"2023년 11월 시점에서 없어진 도서의 개수: {removed_books_count}\")\n",
    "print(\"\\n2020년 11월 상위 20권 도서 대출 횟수:\\n\", top_20_books_2020)\n",
    "print(\"\\n2023년 11월 상위 20권 도서 대출 횟수:\\n\", top_20_books_2023)\n",
    "print(f\"\\n2020년과 2023년 상위 100권 중 동일한 도서의 개수: {common_top_100_books_count}\")\n",
    "print(\"\\n2020년 상위 50권 도서의 대출 횟수 비교:\\n\", top_50_books_comparison)\n",
    "print(f\"\\n상위 100권 도서의 평균 대출 횟수 비교: 2020년 - {mean_borrow_2020}, 2023년 - {mean_borrow_2023}\")"
   ]
  },
  {
   "cell_type": "code",
   "execution_count": null,
   "id": "18899e1e-7b10-409d-8199-c3cc6838b291",
   "metadata": {},
   "outputs": [],
   "source": []
  }
 ],
 "metadata": {
  "kernelspec": {
   "display_name": "Python 3 (ipykernel)",
   "language": "python",
   "name": "python3"
  },
  "language_info": {
   "codemirror_mode": {
    "name": "ipython",
    "version": 3
   },
   "file_extension": ".py",
   "mimetype": "text/x-python",
   "name": "python",
   "nbconvert_exporter": "python",
   "pygments_lexer": "ipython3",
   "version": "3.13.2"
  }
 },
 "nbformat": 4,
 "nbformat_minor": 5
}
