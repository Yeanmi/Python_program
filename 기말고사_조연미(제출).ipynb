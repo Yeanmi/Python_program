{
 "cells": [
  {
   "cell_type": "code",
   "execution_count": 7,
   "id": "8acefabc-1dab-478e-aba7-fae0404f34f0",
   "metadata": {},
   "outputs": [],
   "source": [
    "import pandas as pd\n",
    "import matplotlib.pyplot as plt\n",
    "from matplotlib import font_manager, rc"
   ]
  },
  {
   "cell_type": "code",
   "execution_count": 8,
   "id": "2e7d2119-9014-43e9-b6a8-b3de8bd16874",
   "metadata": {},
   "outputs": [],
   "source": [
    "# 폰트 설정\n",
    "font_path = \"C:/Windows/Fonts/malgun.ttf\"  # Windows의 경우 '맑은 고딕' 폰트 사용\n",
    "font_name = font_manager.FontProperties(fname=font_path).get_name()\n",
    "rc('font', family=font_name)"
   ]
  },
  {
   "cell_type": "code",
   "execution_count": 9,
   "id": "19a6d95c-e185-4650-ae19-bcc7c71dd3f7",
   "metadata": {},
   "outputs": [],
   "source": [
    "# 파일 경로 설정 (경로에 특수 문자가 포함된 경우 raw string으로 변경)\n",
    "path_2020 = r'C:\\Users\\user\\Documents\\python_program\\성동구립도서관 장서 대출목록 (2020년 11월).csv'\n",
    "path_2023 = r'C:\\Users\\user\\Documents\\python_program\\성동구립도서관 장서 대출목록 (2023년 11월).csv'"
   ]
  },
  {
   "cell_type": "code",
   "execution_count": null,
   "id": "f2a40933-5431-47e4-ae2b-e1f9f70677ce",
   "metadata": {},
   "outputs": [],
   "source": [
    "# 데이터 불러오기\n",
    "try:\n",
    "    data_2020 = pd.read_csv(path_2020)\n",
    "    data_2023 = pd.read_csv(path_2023)\n",
    "except FileNotFoundError as e:\n",
    "    print(f\"파일을 찾을 수 없습니다: {e}\")\n",
    "    exit()"
   ]
  },
  {
   "cell_type": "code",
   "execution_count": null,
   "id": "4f95c420-a0d0-423b-914d-c9080bab52d2",
   "metadata": {},
   "outputs": [],
   "source": [
    "# 데이터 확인: 첫 몇 줄과 컬럼명을 출력\n",
    "print(\"2020년 데이터 컬럼명:\", data_2020.columns)\n",
    "print(\"2023년 데이터 컬럼명:\", data_2023.columns)\n",
    "print(\"2020년 데이터 첫 줄:\\n\", data_2020.head())\n",
    "print(\"2023년 데이터 첫 줄:\\n\", data_2023.head())"
   ]
  },
  {
   "cell_type": "code",
   "execution_count": null,
   "id": "dc972091-8f32-4d73-a0ce-e5969cbf4799",
   "metadata": {},
   "outputs": [],
   "source": [
    "# 전처리: 중복 제거 및 누락값 처리\n",
    "data_2020.drop_duplicates(inplace=True)\n",
    "data_2023.drop_duplicates(inplace=True)\n",
    "data_2020.dropna(inplace=True)\n",
    "data_2023.dropna(inplace=True)"
   ]
  },
  {
   "cell_type": "code",
   "execution_count": null,
   "id": "73bb9015-7174-43c2-85c3-dfba6931ae2c",
   "metadata": {},
   "outputs": [],
   "source": [
    "# (1) 2020년 11월과 비교하여 2023년 11월 시점에서 추가된 도서의 목록 및 개수\n",
    "added_books = data_2023[~data_2023['도서명'].isin(data_2020['도서명'])]\n",
    "added_books_count = added_books.shape[0]\n",
    "\n",
    "# (2) 2020년 11월과 비교하여 2023년 11월 시점에서 없어진 도서의 목록 및 개수\n",
    "removed_books = data_2020[~data_2020['도서명'].isin(data_2023['도서명'])]\n",
    "removed_books_count = removed_books.shape[0]\n",
    "\n",
    "# (3) 2020년 11월과 2023년 11월 가장 대출이 많이 발생한 도서 상위 20권의 리스트와 그 빈도수 비교\n",
    "top_20_books_2020 = data_2020['도서명'].value_counts().head(20)\n",
    "top_20_books_2023 = data_2023['도서명'].value_counts().head(20)\n",
    "\n",
    "# (4) 2020년 11월과 2023년 11월 가장 대출이 많이 발생한 도서 상위 100권 중 동일한 도서의 리스트와 그 개수\n",
    "top_100_books_2020 = set(data_2020['도서명'].value_counts().head(100).index)\n",
    "top_100_books_2023 = set(data_2023['도서명'].value_counts().head(100).index)\n",
    "common_top_100_books = top_100_books_2020.intersection(top_100_books_2023)\n",
    "common_top_100_books_count = len(common_top_100_books)\n",
    "\n",
    "# (5) 2020년 11월 가장 대출이 많이 발생한 도서 상위 50권의 당시 대출 횟수와 현재 대출 횟수 비교하여 증가한 도서와 감소한 도서 파악, 그래프로 표현\n",
    "top_50_books_2020 = data_2020['도서명'].value_counts().head(50)\n",
    "top_50_books_2023_counts = data_2023['도서명'].value_counts()"
   ]
  },
  {
   "cell_type": "code",
   "execution_count": null,
   "id": "c9449ecd-cadf-448f-b3c5-c95c6ddfe8db",
   "metadata": {},
   "outputs": [],
   "source": [
    "# 인덱스가 존재하지 않는 경우 0으로 채우기\n",
    "top_50_books_comparison = pd.DataFrame({\n",
    "    '2020': top_50_books_2020,\n",
    "    '2023': top_50_books_2023_counts.reindex(top_50_books_2020.index, fill_value=0)\n",
    "})\n",
    "\n",
    "top_50_books_comparison['Difference'] = top_50_books_comparison['2023'] - top_50_books_comparison['2020']"
   ]
  },
  {
   "cell_type": "code",
   "execution_count": null,
   "id": "1ceb34d5-d9d7-46eb-9f35-0892b9202763",
   "metadata": {},
   "outputs": [],
   "source": [
    "# 증가한 도서와 감소한 도서 파악\n",
    "increased_books = top_50_books_comparison[top_50_books_comparison['Difference'] > 0]\n",
    "decreased_books = top_50_books_comparison[top_50_books_comparison['Difference'] < 0]"
   ]
  },
  {
   "cell_type": "code",
   "execution_count": null,
   "id": "5a782f73-4987-455a-b87d-37934dc88f84",
   "metadata": {},
   "outputs": [],
   "source": [
    "# 그래프로 표현\n",
    "plt.figure(figsize=(12, 8))\n",
    "top_50_books_comparison.sort_values('Difference', inplace=True)\n",
    "top_50_books_comparison['Difference'].plot(kind='barh', color='skyblue')\n",
    "plt.title('Top 50 Borrowed Books: Difference in Borrow Counts (2023 vs 2020)')\n",
    "plt.xlabel('Difference in Borrow Counts')\n",
    "plt.ylabel('Books')\n",
    "plt.show()"
   ]
  },
  {
   "cell_type": "code",
   "execution_count": null,
   "id": "65b8ccff-a741-4947-8259-41dca9dc5ff8",
   "metadata": {},
   "outputs": [],
   "source": [
    "# (6) 추가 분석 - 상위 100권 도서의 평균 대출 횟수 비교\n",
    "mean_borrow_2020 = data_2020['도서명'].value_counts().head(100).mean()\n",
    "mean_borrow_2023 = data_2023['도서명'].value_counts().head(100).mean()"
   ]
  },
  {
   "cell_type": "code",
   "execution_count": null,
   "id": "14b70a8f-b87f-4926-9a3b-ebf19a731771",
   "metadata": {},
   "outputs": [],
   "source": [
    "# 결과 출력\n",
    "print(f\"2023년 11월 시점에서 추가된 도서의 개수: {added_books_count}\")\n",
    "print(f\"2023년 11월 시점에서 없어진 도서의 개수: {removed_books_count}\")\n",
    "print(\"\\n2020년 11월 상위 20권 도서 대출 횟수:\\n\", top_20_books_2020)\n",
    "print(\"\\n2023년 11월 상위 20권 도서 대출 횟수:\\n\", top_20_books_2023)\n",
    "print(f\"\\n2020년과 2023년 상위 100권 중 동일한 도서의 개수: {common_top_100_books_count}\")\n",
    "print(\"\\n2020년 상위 50권 도서의 대출 횟수 비교:\\n\", top_50_books_comparison)\n",
    "print(f\"\\n상위 100권 도서의 평균 대출 횟수 비교: 2020년 - {mean_borrow_2020}, 2023년 - {mean_borrow_2023}\")"
   ]
  }
 ],
 "metadata": {
  "kernelspec": {
   "display_name": "Python 3 (ipykernel)",
   "language": "python",
   "name": "python3"
  },
  "language_info": {
   "codemirror_mode": {
    "name": "ipython",
    "version": 3
   },
   "file_extension": ".py",
   "mimetype": "text/x-python",
   "name": "python",
   "nbconvert_exporter": "python",
   "pygments_lexer": "ipython3",
   "version": "3.13.2"
  }
 },
 "nbformat": 4,
 "nbformat_minor": 5
}
